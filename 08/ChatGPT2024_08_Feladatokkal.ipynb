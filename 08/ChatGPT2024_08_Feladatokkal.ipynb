{
  "nbformat": 4,
  "nbformat_minor": 0,
  "metadata": {
    "colab": {
      "provenance": [],
      "authorship_tag": "ABX9TyPXWz86I97FNPX2nvs1A5Uj",
      "include_colab_link": true
    },
    "kernelspec": {
      "name": "python3",
      "display_name": "Python 3"
    },
    "language_info": {
      "name": "python"
    }
  },
  "cells": [
    {
      "cell_type": "markdown",
      "metadata": {
        "id": "view-in-github",
        "colab_type": "text"
      },
      "source": [
        "<a href=\"https://colab.research.google.com/github/karsarobert/ChatGpt_2024/blob/main/08/ChatGPT2024_08_Feladatokkal.ipynb\" target=\"_parent\"><img src=\"https://colab.research.google.com/assets/colab-badge.svg\" alt=\"Open In Colab\"/></a>"
      ]
    },
    {
      "cell_type": "markdown",
      "source": [
        "#Chat GPT és más nagy nyelvi modellek alkalmazása\n",
        "##PTE Gépi tanulás\n",
        "###8. gyakorlat: HuggingChat API, Finntech\n",
        "2024. március 25."
      ],
      "metadata": {
        "id": "PgDtxlPV3A9B"
      }
    },
    {
      "cell_type": "markdown",
      "source": [
        "#Hugging Chat API\n",
        "\n",
        "https://github.com/Soulter/hugging-chat-api"
      ],
      "metadata": {
        "id": "0EtFZ23gqASy"
      }
    },
    {
      "cell_type": "code",
      "execution_count": null,
      "metadata": {
        "colab": {
          "base_uri": "https://localhost:8080/"
        },
        "id": "TF7A9aWBi08Q",
        "outputId": "6bee5b37-9d08-4ba3-fed4-3beb9789790e"
      },
      "outputs": [
        {
          "output_type": "stream",
          "name": "stdout",
          "text": [
            "Collecting hugchat\n",
            "  Downloading hugchat-0.4.1-py3-none-any.whl (31 kB)\n",
            "Requirement already satisfied: requests in /usr/local/lib/python3.10/dist-packages (from hugchat) (2.31.0)\n",
            "Collecting requests-toolbelt (from hugchat)\n",
            "  Downloading requests_toolbelt-1.0.0-py2.py3-none-any.whl (54 kB)\n",
            "\u001b[2K     \u001b[90m━━━━━━━━━━━━━━━━━━━━━━━━━━━━━━━━━━━━━━━━\u001b[0m \u001b[32m54.5/54.5 kB\u001b[0m \u001b[31m2.8 MB/s\u001b[0m eta \u001b[36m0:00:00\u001b[0m\n",
            "\u001b[?25hRequirement already satisfied: charset-normalizer<4,>=2 in /usr/local/lib/python3.10/dist-packages (from requests->hugchat) (3.3.2)\n",
            "Requirement already satisfied: idna<4,>=2.5 in /usr/local/lib/python3.10/dist-packages (from requests->hugchat) (3.6)\n",
            "Requirement already satisfied: urllib3<3,>=1.21.1 in /usr/local/lib/python3.10/dist-packages (from requests->hugchat) (2.0.7)\n",
            "Requirement already satisfied: certifi>=2017.4.17 in /usr/local/lib/python3.10/dist-packages (from requests->hugchat) (2024.2.2)\n",
            "Installing collected packages: requests-toolbelt, hugchat\n",
            "Successfully installed hugchat-0.4.1 requests-toolbelt-1.0.0\n"
          ]
        }
      ],
      "source": [
        "!pip install hugchat"
      ]
    },
    {
      "cell_type": "markdown",
      "source": [
        "#Huggingchat beállítása\n",
        "\n",
        "A bejelentkezéshez használt felhasználói név és jelszó kell hozzá!\n",
        "A jelszót a colab titkos kódtárolójában fogjuk tárolni."
      ],
      "metadata": {
        "id": "sdJXrLHrq0Kv"
      }
    },
    {
      "cell_type": "code",
      "source": [
        "from hugchat import hugchat\n",
        "\n",
        "# Create a chatbot connection\n",
        "from hugchat.login import Login\n",
        "\n",
        "# Log in to huggingface and grant authorization to huggingchat\n",
        "sign = Login('karsarobert@gmail.com' , userdata.get('huggingchat'))\n",
        "\n",
        "cookies = sign.login()\n",
        "\n",
        "# Save cookies to the local directory\n",
        "cookie_path_dir = \"./cookies_snapshot\"\n",
        "sign.saveCookiesToDir(cookie_path_dir)\n",
        "\n",
        "# Create a ChatBot\n",
        "chatbot = hugchat.ChatBot(cookies=cookies.get_dict())  # or cookie_path=\"usercookies/<email>.json\"\n",
        "\n",
        "# non stream response\n",
        "query_result = chatbot.query('Mi Magyarország fővárosa? Magyar nyelven válaszolj!')\n",
        "print(query_result) # or query_result.text or query_result[\"text\"]"
      ],
      "metadata": {
        "colab": {
          "base_uri": "https://localhost:8080/"
        },
        "id": "Sh3I6WVCIK6b",
        "outputId": "ed7b7349-2b1f-498f-9240-0b25242a0b0f"
      },
      "execution_count": null,
      "outputs": [
        {
          "output_type": "stream",
          "name": "stdout",
          "text": [
            " A magyar főváros Budapest.\n",
            "\n",
            "(The capital city of Hungary is Budapest.)\n"
          ]
        }
      ]
    },
    {
      "cell_type": "code",
      "source": [
        "chatbot.new_conversation(switch_to = True) # switch to the new conversation\n",
        "for resp in chatbot.query(\n",
        "    \"Szia mikor kel fel a nap?\",\n",
        "    stream=True\n",
        "):\n",
        "    try:\n",
        "      print(resp['token'], end = \"\")\n",
        "    except: pass"
      ],
      "metadata": {
        "colab": {
          "base_uri": "https://localhost:8080/"
        },
        "id": "psyorvMbsQdU",
        "outputId": "115c8935-0dc4-4212-ccc3-1b147829a412"
      },
      "execution_count": null,
      "outputs": [
        {
          "output_type": "stream",
          "name": "stdout",
          "text": [
            " A pontos feltűnési idő (mikor kel fel a Nap) az adott helytől, időzónától és évszaktól függ. Például Budapesten, Magyarországon, 2023. április 1-jén a Nap délután 6:24-kor kel fel.\n",
            "\n",
            "Ha többet szeretnél tudni a Nap felkelte idejéről bárhol a világon, ajánlom ezt a weboldalt: <https://www.timeanddate.com/sun/>\n",
            "\n",
            "Itthon, Magyarországon, ahogy említettem, most áprilisban van, így hamarosan érkezik majd a nyár is, amikor a nappalok hossza tovább növekszik, tehát a Nap egyre korábbra kel fel minden reggel."
          ]
        }
      ]
    },
    {
      "cell_type": "code",
      "source": [
        "chatbot.new_conversation(switch_to = True) # switch to the new conversation\n",
        "query_result = chatbot.query(\"Ki volt Petőfi Sándor?\", web_search=True)\n",
        "print(query_result)\n",
        "for source in query_result.web_search_sources:\n",
        "    print(source.link)\n",
        "    print(source.title)\n",
        "    print(source.hostname)"
      ],
      "metadata": {
        "colab": {
          "base_uri": "https://localhost:8080/"
        },
        "id": "Xy1BZnMkrVbI",
        "outputId": "f80d3b7d-cef4-4a83-d6bd-8ee65b17629b"
      },
      "execution_count": null,
      "outputs": [
        {
          "output_type": "stream",
          "name": "stdout",
          "text": [
            " Petőfi Sándor (1823–most likely 1849) was a Hungarian poet and liberal revolutionary, considered to be Hungary's national poet. He played a significant role in the Hungarian Revolution of 1848, fighting for independence from the Austrian Empire. His poetry often focused on themes such as love, nature, and patriotism, making him one of the most beloved figures in Hungarian literature.\n",
            "https://hu.wikipedia.org/wiki/Pet%C5%91fi_S%C3%A1ndor\n",
            "Petőfi Sándor - Wikipédia\n",
            "hu.wikipedia.org\n",
            "https://www.arcanum.com/hu/online-kiadvanyok/MagyarIrodalom-magyar-irodalomtortenet-1/magyar-irodalomtortenet-pinter-jeno-5116/6-a-magyar-irodalom-a-xix-szazad-masodik-harmadaban-1C05/petofi-sandor-1E30/petofi-sandor-elete-1E31/\n",
            "PETŐFI SÁNDOR ÉLETE. | Magyar irodalomtörténet - Arcanum\n",
            "www.arcanum.com\n",
            "https://en.wikipedia.org/wiki/S%C3%A1ndor_Pet%C5%91fi\n",
            "Sándor Petőfi - Wikipedia\n",
            "en.wikipedia.org\n",
            "https://erettsegi.com/tetelek/irodalom/petofi-sandor-elete-1823-1849/\n",
            "Petőfi Sándor élete (1823-1849) - Irodalom kidolgozott érettségi tétel\n",
            "erettsegi.com\n",
            "https://www.britannica.com/biography/Sandor-Petofi\n",
            "Sándor Petőfi | Hungarian Poet & Revolutionary, János Vitéz\n",
            "www.britannica.com\n"
          ]
        }
      ]
    },
    {
      "cell_type": "markdown",
      "source": [
        "#Fogjuk munkára a HuggingChat-et"
      ],
      "metadata": {
        "id": "PKnBmRxA2B1P"
      }
    },
    {
      "cell_type": "code",
      "source": [
        "import yfinance as yf\n",
        "import pandas as pd\n",
        "# Define the ticker symbols\n",
        "tickers = ['AAPL']\n",
        "# Define the start and end dates\n",
        "start_date = '2020-01-01'\n",
        "end_date = '2022-12-31'\n",
        "# Create an empty DataFrame to store the data\n",
        "data = pd.DataFrame()\n",
        "# Download the data\n",
        "for ticker in tickers:\n",
        " df = yf.download(ticker, start=start_date, end=end_date, interval='1mo')\n",
        " df['Ticker'] = ticker # Add a column with the ticker symbol\n",
        " data = pd.concat([data, df])\n",
        "# Reset the index\n",
        "data.reset_index(inplace=True)\n",
        "# Save the data to a CSV file\n",
        "data.to_csv('stock_data.csv', index=False)"
      ],
      "metadata": {
        "colab": {
          "base_uri": "https://localhost:8080/"
        },
        "id": "VAT_66vXDvYL",
        "outputId": "588b8945-fe3d-4d36-f704-5427a20510d6"
      },
      "execution_count": null,
      "outputs": [
        {
          "output_type": "stream",
          "name": "stderr",
          "text": [
            "[*********************100%%**********************]  1 of 1 completed\n",
            "[*********************100%%**********************]  1 of 1 completed\n"
          ]
        }
      ]
    },
    {
      "cell_type": "markdown",
      "source": [
        "#Mekkora a dataframe?"
      ],
      "metadata": {
        "id": "Rbs-4gaS2cAh"
      }
    },
    {
      "cell_type": "code",
      "source": [],
      "metadata": {
        "id": "VTdJbERQ7L1t"
      },
      "execution_count": null,
      "outputs": []
    },
    {
      "cell_type": "markdown",
      "source": [
        "#Nézzük meg az első tíz sort"
      ],
      "metadata": {
        "id": "n0PhRTtJ2j1X"
      }
    },
    {
      "cell_type": "code",
      "source": [],
      "metadata": {
        "id": "H7XBULZK7PTM"
      },
      "execution_count": null,
      "outputs": []
    },
    {
      "cell_type": "markdown",
      "source": [
        "#A dataframe első 2 sorát konvertáljuk sztringé és másoljuk a csv_string változóba"
      ],
      "metadata": {
        "id": "qWDTRrr62v3f"
      }
    },
    {
      "cell_type": "code",
      "source": [
        "import pandas as pd\n",
        "\n",
        "csv_string ="
      ],
      "metadata": {
        "id": "fkiqOtu22Yc0"
      },
      "execution_count": null,
      "outputs": []
    },
    {
      "cell_type": "markdown",
      "source": [
        "#Nézzük meg a csv_string tartalmát"
      ],
      "metadata": {
        "id": "-lhx11Uy3bkX"
      }
    },
    {
      "cell_type": "code",
      "source": [],
      "metadata": {
        "id": "n6iBulJu7iZT"
      },
      "execution_count": null,
      "outputs": []
    },
    {
      "cell_type": "markdown",
      "source": [
        "#Készítsük el az alábbipromptot:\n",
        "Adjuk meg a céginformációkat a sztringből és készítsünk egy tömör elemzést az adatok alapján."
      ],
      "metadata": {
        "id": "RhFwbc9E7mHd"
      }
    },
    {
      "cell_type": "code",
      "source": [
        "input_text = f\"      \""
      ],
      "metadata": {
        "id": "j4EBqe-Y8L_6"
      },
      "execution_count": null,
      "outputs": []
    },
    {
      "cell_type": "markdown",
      "source": [
        "#HuggingChat segítségével a promptot futassuk"
      ],
      "metadata": {
        "id": "UW8mshY375Oz"
      }
    },
    {
      "cell_type": "code",
      "source": [
        "query_result = chatbot.\n",
        "print(query_result)"
      ],
      "metadata": {
        "id": "XKlkPLm_3Dlb"
      },
      "execution_count": null,
      "outputs": []
    },
    {
      "cell_type": "markdown",
      "source": [
        "#Cégadatok letöltése"
      ],
      "metadata": {
        "id": "JbARTw7F6RzA"
      }
    },
    {
      "cell_type": "code",
      "execution_count": null,
      "metadata": {
        "id": "bkTg_pfHj4yF"
      },
      "outputs": [],
      "source": [
        "import requests\n",
        "import pandas as pd\n",
        "api_key = \"RZ8Q9Q727YIMBYYO\"\n",
        "symbol = \"PANW\"\n",
        "url = f\"https://www.alphavantage.co/query?function=INCOME_STATEMENT&symbol={symbol}&apikey={api_key}\"\n",
        "try:\n",
        "  response = requests.get(url)\n",
        "  response.raise_for_status()  # Raise HTTPError for bad responses\n",
        "  data = response.json()\n",
        "\n",
        "except requests.RequestException as e:\n",
        "    print(f\"An error occurred: {e}\")"
      ]
    },
    {
      "cell_type": "markdown",
      "source": [
        "#Nézzük meg a data tartalmát\n",
        "a data_filtered változóba másoljuk át a annualReports-okat"
      ],
      "metadata": {
        "id": "1vkFM3hN8j77"
      }
    },
    {
      "cell_type": "code",
      "source": [],
      "metadata": {
        "id": "fDbkDaOC878j"
      },
      "execution_count": null,
      "outputs": []
    },
    {
      "cell_type": "markdown",
      "source": [
        "#Készítsünk promptot a fenti adatok feldolgozására\n"
      ],
      "metadata": {
        "id": "P0IaH-Qz8-Uh"
      }
    },
    {
      "cell_type": "code",
      "source": [
        "input_text = f\"      \""
      ],
      "metadata": {
        "id": "hAmI3WDK9dXm"
      },
      "execution_count": null,
      "outputs": []
    },
    {
      "cell_type": "markdown",
      "source": [
        "#HuggingChat segítségével a promptot futassuk"
      ],
      "metadata": {
        "id": "mtxVMzcU9rhR"
      }
    },
    {
      "cell_type": "code",
      "source": [],
      "metadata": {
        "id": "V89u7HhO9snp"
      },
      "execution_count": null,
      "outputs": []
    },
    {
      "cell_type": "markdown",
      "source": [
        "#Kérjük meg a modellt, hogy készítsen vizualizációkat pythonban"
      ],
      "metadata": {
        "id": "wpCe4PMl_bBr"
      }
    },
    {
      "cell_type": "code",
      "source": [],
      "metadata": {
        "id": "FpFgDJYO_7Bi"
      },
      "execution_count": null,
      "outputs": []
    },
    {
      "cell_type": "markdown",
      "source": [
        "#Futassuk az ajánlott kódot"
      ],
      "metadata": {
        "id": "mr9CO4PW_vRz"
      }
    },
    {
      "cell_type": "code",
      "source": [],
      "metadata": {
        "id": "2zq3olyJ_9z6"
      },
      "execution_count": null,
      "outputs": []
    }
  ]
}