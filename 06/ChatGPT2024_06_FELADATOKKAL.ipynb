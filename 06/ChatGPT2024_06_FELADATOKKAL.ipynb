{
  "nbformat": 4,
  "nbformat_minor": 0,
  "metadata": {
    "colab": {
      "provenance": [],
      "authorship_tag": "ABX9TyMpr4aLGgKsPHVGia1Jx/yj",
      "include_colab_link": true
    },
    "kernelspec": {
      "name": "python3",
      "display_name": "Python 3"
    },
    "language_info": {
      "name": "python"
    }
  },
  "cells": [
    {
      "cell_type": "markdown",
      "metadata": {
        "id": "view-in-github",
        "colab_type": "text"
      },
      "source": [
        "<a href=\"https://colab.research.google.com/github/karsarobert/ChatGpt_2024/blob/main/06/ChatGPT2024_06_FELADATOKKAL.ipynb\" target=\"_parent\"><img src=\"https://colab.research.google.com/assets/colab-badge.svg\" alt=\"Open In Colab\"/></a>"
      ]
    },
    {
      "cell_type": "markdown",
      "source": [
        "#Chat GPT és más nagy nyelvi modellek alkalmazása\n",
        "##PTE Gépi tanulás\n",
        "###5. gyakorlat: ismeretek felmérése\n",
        "2024. március 11."
      ],
      "metadata": {
        "id": "PgDtxlPV3A9B"
      }
    },
    {
      "cell_type": "markdown",
      "source": [
        "Név:"
      ],
      "metadata": {
        "id": "Syn1HmfOJQ7M"
      }
    },
    {
      "cell_type": "markdown",
      "source": [
        "#Minden feladatot legalább két nyelvi modell segítségével oldj meg.\n",
        "**(Gemini, ChatGPT, HuggingChat, Mistral, Claude)**"
      ],
      "metadata": {
        "id": "NV0Be5zNXWsv"
      }
    },
    {
      "cell_type": "markdown",
      "source": [
        "#1. Információvisszakeresés - Energiafelhasználási statisztikák"
      ],
      "metadata": {
        "id": "PuhigS3NB8DO"
      }
    },
    {
      "cell_type": "markdown",
      "source": [
        "\n",
        "Kontextus:\n",
        "Az energiafelhasználás és az energiaforrások jelentős hatással vannak a gazdaságra és a környezetre. Az Egyesült Államok energiafelhasználási adatainak naprakészen tartása fontos a döntéshozók, szakértők és a nagyközönség számára egyaránt.\n",
        "\n",
        "##Részletes feladatleírás:\n",
        "Írj egy promptot, amely segítségével a nagy nyelvi modell képes lesz visszakeresni a legfrissebb statisztikai adatokat az Egyesült Államok energiafelhasználásáról. A válasznak tartalmaznia kell:\n",
        "\n",
        "A legfrissebb évre vonatkozó energiafelhasználási adatokat\n",
        "Az energiaforrások szerinti bontást (pl. kőolaj, földgáz, szén, megújuló források)\n",
        "Az adatforrás megjelölését (pl. kormányzati jelentés, energia-ügynökség)\n",
        "Az év megadását, amelyre az adatok vonatkoznak\n"
      ],
      "metadata": {
        "id": "-PIZIyxjS9Pj"
      }
    },
    {
      "cell_type": "markdown",
      "source": [
        "Ezt követően az adatokat ábrázold pythonban a matplotlib segítségével."
      ],
      "metadata": {
        "id": "FXmK5K72UPdw"
      }
    },
    {
      "cell_type": "markdown",
      "source": [
        "#Prompt1"
      ],
      "metadata": {
        "id": "v39FAAfZXw3m"
      }
    },
    {
      "cell_type": "markdown",
      "source": [],
      "metadata": {
        "id": "O-A4nBNIYHaV"
      }
    },
    {
      "cell_type": "markdown",
      "source": [
        "#Megoldás1:"
      ],
      "metadata": {
        "id": "MX6k1pCVX7ud"
      }
    },
    {
      "cell_type": "markdown",
      "source": [],
      "metadata": {
        "id": "Yo0k9EoKYILt"
      }
    },
    {
      "cell_type": "markdown",
      "source": [
        "#Prompt2\n"
      ],
      "metadata": {
        "id": "orfa5QZuX0v9"
      }
    },
    {
      "cell_type": "markdown",
      "source": [],
      "metadata": {
        "id": "KsDsYQ-LYJB1"
      }
    },
    {
      "cell_type": "markdown",
      "source": [
        "#Megoldás2"
      ],
      "metadata": {
        "id": "ovuRSRX2YAd8"
      }
    },
    {
      "cell_type": "markdown",
      "source": [],
      "metadata": {
        "id": "SuBD0THgYJ7X"
      }
    },
    {
      "cell_type": "markdown",
      "source": [
        "#2. Einstein rejtvénye, amit az emberek 98%-a nem képes megoldani\n",
        "\n",
        "Van egymás mellett 5 ház, mind az 5 különböző színű. A házakban lakik egy-egy személy, mindegyik különböző nemzetiségű. Mindegyik fogyaszt valamilyen italt, dohányárut és tart valamilyen állatot. Egyikük sem fogyaszt ugyanolyan italt, szív ugyanolyan cigarettát, és tart ugyanolyan állatot.\n",
        "\n",
        "– A brit piros házban lakik.\n",
        "– A svéd kutyákat tart.\n",
        "– A dán teát iszik.\n",
        "– A fehér ház balján a zöld ház van.\n",
        "– A zöld házban kávét fogyasztanak .\n",
        "– Az a személy, aki Pall Mallt szív, madarakat tart.\n",
        "– A sárga ház lakója Dunhillt szív.\n",
        "– A középső házban lakó tejet iszik.\n",
        "– A norvég az első házban lakik.\n",
        "– A Blendet szívó szomszédjában lakó macskát tart.\n",
        "– A Blue Mastert szívó ember sörözik.\n",
        "– A lovakat tartó szomszédjában lakó Dunhillt szív.\n",
        "– A német Price-t szív.\n",
        "– A norvég a kék hát szomszédja.\n",
        "– A Blendet szívó szomszédságában vizet isznak.\n",
        "\n",
        "Kérdés: Ki tart halakat?\n",
        "\n",
        "##Részletes feladatleírás:\n",
        "\n",
        "Írj egy promptot a nagy nyelvi modell számára, amely tartalmazza az Einstein-féle rejtvény kiindulási feltételeit. A modellnek ki kell találnia a megoldást, vagyis meg kell határoznia az 5 személy foglalkozását, háza színét, háziállatát, italát és szivarját a feltételek alapján. A válasznak tartalmaznia kell az összes részletet a megoldásról.\n"
      ],
      "metadata": {
        "id": "EfGyCAZDU6lu"
      }
    },
    {
      "cell_type": "markdown",
      "source": [
        "#Prompt1"
      ],
      "metadata": {
        "id": "Afj6DIHLYUX2"
      }
    },
    {
      "cell_type": "markdown",
      "source": [],
      "metadata": {
        "id": "hL0ptaT3YUX3"
      }
    },
    {
      "cell_type": "markdown",
      "source": [
        "#Megoldás1:"
      ],
      "metadata": {
        "id": "YzWzXlZ4YUX3"
      }
    },
    {
      "cell_type": "markdown",
      "source": [],
      "metadata": {
        "id": "d3u5F6ZkYUX3"
      }
    },
    {
      "cell_type": "markdown",
      "source": [
        "#Prompt2\n"
      ],
      "metadata": {
        "id": "yhvTWtpzYUX3"
      }
    },
    {
      "cell_type": "markdown",
      "source": [],
      "metadata": {
        "id": "geyWUvtIYUX4"
      }
    },
    {
      "cell_type": "markdown",
      "source": [
        "#Megoldás2"
      ],
      "metadata": {
        "id": "Pp2DFEFAYUX4"
      }
    },
    {
      "cell_type": "markdown",
      "source": [],
      "metadata": {
        "id": "yoKA8ZuqYUX4"
      }
    },
    {
      "cell_type": "markdown",
      "source": [
        "#3. Gondolatfolyamatot követő feladat - Önvezető autók etikai dilemmái"
      ],
      "metadata": {
        "id": "SNvKZKDjepLo"
      }
    },
    {
      "cell_type": "markdown",
      "source": [
        "\n",
        "Kontextus:\n",
        "Az önvezető autók elterjedésével felmerülnek bizonyos etikai dilemmák, amelyekre a járműveknek valahogyan reagálniuk kell. Ilyen például a \"túszadilemmának\" vagy \"dilemma-játéknak\" nevezett helyzet, amikor az önvezető autónak döntenie kell, hogy kinek az életét kockáztatja egy baleseti szituációban.\n",
        "\n",
        "##Részletes feladatleírás:\n",
        "Írj egy promptot, amely bemutatja az önvezető autók egyik etikai dilemmáját egy konkrét forgatókönyvvel. A nagy nyelvi modellnek végig kell gondolnia a helyzetet, mérlegelnie kell az érveket és ellenérveket, valamint etikai szempontból elemezni a lehetséges kimeneteleket. A válasznak tartalmaznia kell a gondolatmenet részletes kifejtését."
      ],
      "metadata": {
        "id": "AR2UF84Xecdm"
      }
    },
    {
      "cell_type": "markdown",
      "source": [
        "#Prompt1"
      ],
      "metadata": {
        "id": "FxG70-0Ge4Tn"
      }
    },
    {
      "cell_type": "markdown",
      "source": [],
      "metadata": {
        "id": "r8xkgsQfe4To"
      }
    },
    {
      "cell_type": "markdown",
      "source": [
        "#Megoldás1:"
      ],
      "metadata": {
        "id": "U3SSxb-0e4To"
      }
    },
    {
      "cell_type": "markdown",
      "source": [],
      "metadata": {
        "id": "2s9Warfoe4To"
      }
    },
    {
      "cell_type": "markdown",
      "source": [
        "#Prompt2\n"
      ],
      "metadata": {
        "id": "x4SdGwTie4Tp"
      }
    },
    {
      "cell_type": "markdown",
      "source": [],
      "metadata": {
        "id": "1IVjiVNfe4Tp"
      }
    },
    {
      "cell_type": "markdown",
      "source": [
        "#Megoldás2"
      ],
      "metadata": {
        "id": "AkQk4d2ke4Tp"
      }
    },
    {
      "cell_type": "markdown",
      "source": [],
      "metadata": {
        "id": "dHx7QcMWe4Tq"
      }
    },
    {
      "cell_type": "markdown",
      "source": [
        "#4. Strukturálatlan adatelemzés - Információkinyerés weboldalról"
      ],
      "metadata": {
        "id": "VKiHcnbZe6xG"
      }
    },
    {
      "cell_type": "markdown",
      "source": [
        "Kontextus:\n",
        "A weben rengeteg információ érhető el strukturálatlan formában, például vállalati weboldalakon, blogbejegyzésekben vagy cikkekben. Ezekből az erőforrásokból gyakran szükséges releváns információkat kinyerni, válaszolva felmerülő kérdésekre.\n",
        "\n",
        "##Részletes feladatleírás:\n",
        "Válassz egy vállalati weboldalt vagy cikket, és írj egy promptot a nagy nyelvi modell számára. A promptnak tartalmaznia kell a kiválasztott weboldal/cikk URL-jét vagy csatolva magát a tartalmat. Keresd ki a  cikk fő témáit azokkal kapcsolatosan tegyél fel kérdéseket, a cikkből válassz ki 1-2 fő témakört és azokat foglald össze."
      ],
      "metadata": {
        "id": "81eY85PWfD5N"
      }
    },
    {
      "cell_type": "markdown",
      "source": [
        "#Prompt1"
      ],
      "metadata": {
        "id": "gTpMlvMofzc0"
      }
    },
    {
      "cell_type": "markdown",
      "source": [],
      "metadata": {
        "id": "bAoQGPWtfzc1"
      }
    },
    {
      "cell_type": "markdown",
      "source": [
        "#Megoldás1:"
      ],
      "metadata": {
        "id": "htwTJl0Tfzc_"
      }
    },
    {
      "cell_type": "markdown",
      "source": [],
      "metadata": {
        "id": "LdVI8xF8fzdA"
      }
    },
    {
      "cell_type": "markdown",
      "source": [
        "#Prompt2\n"
      ],
      "metadata": {
        "id": "PsGpjN14fzdA"
      }
    },
    {
      "cell_type": "markdown",
      "source": [],
      "metadata": {
        "id": "eU3NZF7wfzdA"
      }
    },
    {
      "cell_type": "markdown",
      "source": [
        "#Megoldás2"
      ],
      "metadata": {
        "id": "IV1OT89qfzdA"
      }
    },
    {
      "cell_type": "markdown",
      "source": [],
      "metadata": {
        "id": "fgNVF7XwfzdA"
      }
    },
    {
      "cell_type": "markdown",
      "source": [
        "#5. Kódgenerálás - Egyszerű algoritmus Python-ban"
      ],
      "metadata": {
        "id": "yJfLd-JwA_Lr"
      }
    },
    {
      "cell_type": "markdown",
      "source": [
        "Kontextus:\n",
        "A programozási készségek egyre fontosabbá válnak a modern munkaerőpiacon. A nagy nyelvi modellek segíthetnek egyszerűbb programok és algoritmusok megírásában az emberek számára adott specifikációk alapján.\n",
        "\n",
        "##Részletes feladatleírás:\n",
        "Adj meg egy rövid, világos specifikációt egy egyszerű algoritmus (két szám legnagyobb közös osztóját) megvalósítására Python nyelven. Kérd a nagy nyelvi modellt, hogy írjon egy működő Python kódot erre a feladatra. A válasznak tartalmaznia kell a teljes kódot, kommentekkel ellátva."
      ],
      "metadata": {
        "id": "epyaCngCBBOU"
      }
    },
    {
      "cell_type": "markdown",
      "source": [
        "#Prompt1"
      ],
      "metadata": {
        "id": "5cQCCs7iBSaD"
      }
    },
    {
      "cell_type": "markdown",
      "source": [],
      "metadata": {
        "id": "9G4aksX-BSaD"
      }
    },
    {
      "cell_type": "markdown",
      "source": [
        "#Megoldás1:"
      ],
      "metadata": {
        "id": "ZcRG0O79BSaD"
      }
    },
    {
      "cell_type": "markdown",
      "source": [],
      "metadata": {
        "id": "yPltY6uWBSaE"
      }
    },
    {
      "cell_type": "markdown",
      "source": [
        "#Prompt2\n"
      ],
      "metadata": {
        "id": "7h0j4AKUBSaE"
      }
    },
    {
      "cell_type": "markdown",
      "source": [],
      "metadata": {
        "id": "DSuwCOavBSaE"
      }
    },
    {
      "cell_type": "markdown",
      "source": [
        "#Megoldás2"
      ],
      "metadata": {
        "id": "k0sqmDkPBSaE"
      }
    },
    {
      "cell_type": "markdown",
      "source": [],
      "metadata": {
        "id": "3-Wg6EgKBSaE"
      }
    },
    {
      "cell_type": "markdown",
      "source": [
        "#6.  Struktúrálatlan adatokból történő információkeresés"
      ],
      "metadata": {
        "id": "dGOaLNj1K_Xj"
      }
    },
    {
      "cell_type": "markdown",
      "source": [
        "##Részletes feladatleírás:\n",
        "Írj egy promptot a ChatGPT vagy más LLM számára, amelynek segítségével a következő szövegből kinyerheted az összes éttermet és a hozzájuk tartozó konyhát:\n",
        "\n",
        "Budapesten rengeteg étterem található, amelyek a világ minden tájáról származó konyhákat kínálnak. A belvárosban olasz, francia, kínai, japán és indiai éttermeket is találhatsz. A külvárosokban pedig számos hagyományos magyar étterem található.\n",
        "\n",
        "Néhány népszerű étterem Budapesten:\n",
        "\n",
        "* **Belvárosi Étterem:** olasz konyha\n",
        "* **Francia Étterem:** francia konyha\n",
        "* **Kínai Étterem:** kínai konyha\n",
        "* **Japán Étterem:** japán konyha\n",
        "* **Indiai Étterem:** indiai konyha\n",
        "* **Magyar Étterem:** magyar konyha"
      ],
      "metadata": {
        "id": "ZRk4Z7agLEcZ"
      }
    },
    {
      "cell_type": "markdown",
      "source": [
        "#Prompt1"
      ],
      "metadata": {
        "id": "_pVpR6EhLk5u"
      }
    },
    {
      "cell_type": "markdown",
      "source": [],
      "metadata": {
        "id": "vq00l0t9Lk52"
      }
    },
    {
      "cell_type": "markdown",
      "source": [
        "#Megoldás1:"
      ],
      "metadata": {
        "id": "GqY6_q8PLk52"
      }
    },
    {
      "cell_type": "markdown",
      "source": [],
      "metadata": {
        "id": "IicR7u5BLk52"
      }
    },
    {
      "cell_type": "markdown",
      "source": [
        "#Prompt2\n"
      ],
      "metadata": {
        "id": "7qUshtWRLk53"
      }
    },
    {
      "cell_type": "markdown",
      "source": [],
      "metadata": {
        "id": "AQJM7wgJLk53"
      }
    },
    {
      "cell_type": "markdown",
      "source": [
        "#Megoldás2"
      ],
      "metadata": {
        "id": "cpFC3lnnLk53"
      }
    },
    {
      "cell_type": "markdown",
      "source": [],
      "metadata": {
        "id": "rD1ZT3zqLk53"
      }
    },
    {
      "cell_type": "markdown",
      "source": [
        "#7. Struktúrálatlan Twitter adatok elemzése"
      ],
      "metadata": {
        "id": "6Os8yLvvL7BX"
      }
    },
    {
      "cell_type": "markdown",
      "source": [
        "##Részletes feladatleírás:\n",
        "Adott néhány Twitter bejegyzés. Az elemzés feladata, hogy használva Gemini vagy ChatGPT-t, azonosítsd a központi témát, kulcsszavakat, és érzelmeket az adott szövegben.\n",
        "\n",
        "\n",
        "1. **Bejegyzés #1**\n",
        "   ```\n",
        "   Innováció a zöld technológiában! 🌱 Nagyszerű látni, hogy a vállalatok egyre inkább átállnak a fenntartható energiaforrásokra. #zöldenergia #fenntarthatóság\n",
        "   ```\n",
        "\n",
        "2. **Bejegyzés #2**\n",
        "   ```\n",
        "   Ma a kávézóban egy régi barátommal találkoztam. Meglepő, mennyire változhatnak az emberek néhány év alatt. #változás #barátság\n",
        "   ```\n",
        "\n",
        "3. **Bejegyzés #3**\n",
        "   ```\n",
        "   Kemény munkának megvan az eredménye! Büszke vagyok, hogy elnyertem az év szoftverfejlesztője díjat. 🥇💻 #sikerek #szoftverfejlesztés\n",
        "   ```\n",
        "\n",
        "4. **Bejegyzés #4**\n",
        "   ```\n",
        "   Miért érzik úgy a tech cégek, hogy állandóan frissíteniük kell a szoftvereiket? Nem bír a telefonom már több frissítést! 😩 #technológia #frissítés\n",
        "   ```\n",
        "\n",
        "5. **Bejegyzés #5**\n",
        "   ```\n",
        "   Ma este jazz koncert a városi parkban! 🎷🎶 Remélem, jó idő lesz. Szeretem, amikor a zene összehozza az embereket. #jazz #közösség\n",
        "   ```\n",
        "\n",
        "6. **Bejegyzés #6**\n",
        "   ```\n",
        "   Elgondolkodtató, hogy mennyi élelmiszert pazarolunk el minden nap. Itt az ideje, hogy jobban odafigyeljünk a fogyasztásunkra. 🌍 #élelmiszerveszteség #fenntarthatóság\n",
        "   ```\n",
        "\n",
        "7. **Bejegyzés #7**\n",
        "   ```\n",
        "   Kipróbáltam az új AI alapú fotószerkesztőt, és elképesztő, mire képes! A gépi tanulás valóban átalakítja, hogyan látjuk a művészetet. 🖼️ #mesterségesintelligencia #fotószerkesztés\n",
        "   ```\n",
        "\n",
        "8. **Bejegyzés #8**\n",
        "   ```\n",
        "   Mit gondoltok, hova tart az oktatás a digitális korban? Szerintem az e-learning forradalmasítja a tanulást. 📚💻 #oktatás #elearning\n",
        "   ```\n",
        "\n",
        "9. **Bejegyzés #9**\n",
        "   ```\n",
        "   Ismét eltévedtem a városban! Talán ideje lenne beletanulnom, hogy hogyan használjam a GPS-t a telefonomon... 🗺️😂 #kalandok #eltévedt\n",
        "   ```\n",
        "\n",
        "10. **Bejegyzés #10**\n",
        "    ```\n",
        "    A naplemente mindig emlékeztet arra, hogy még a leghétköznapibb napok is véget érnek gyönyörűséggel. 🌅❤️ #naplemente #szépség\n",
        "    ```"
      ],
      "metadata": {
        "id": "Y4EtGMmML63g"
      }
    },
    {
      "cell_type": "markdown",
      "source": [
        "#8. Struktúrálatlan számla adatok elemzése OCR felhasználásával"
      ],
      "metadata": {
        "id": "R2BrWA_8Rb3T"
      }
    },
    {
      "cell_type": "markdown",
      "source": [
        "##Részletes feladatleírás:\n",
        "Adott egy számla jpg formátumban. Írjon kódot Pythonban, amely a Tesseract segítségével beolvassa a számlát és struktúrálatlan formában kíírja azt. Majd valamelyik LLM segítségével kinyeri belőle a következő adatokat: Szállító, vevő, áru megnevezése, ár, számla száma."
      ],
      "metadata": {
        "id": "8kVbJfqhVrLL"
      }
    },
    {
      "cell_type": "code",
      "source": [
        "!pip install --upgrade gdown\n",
        "!apt-get install tesseract-ocr\n",
        "!pip install pytesseract pillow\n",
        "!sudo apt-get install tesseract-ocr-hun -y"
      ],
      "metadata": {
        "id": "ZgmWlrpxV9SG"
      },
      "execution_count": null,
      "outputs": []
    },
    {
      "cell_type": "code",
      "source": [
        "!gdown 19U964za8AehFLoXaZz8ZSYGJS4m8armQ -O szamla.jpg\n"
      ],
      "metadata": {
        "colab": {
          "base_uri": "https://localhost:8080/"
        },
        "id": "STkGvSBHRc-8",
        "outputId": "78220682-0eda-41d8-d4f6-036bd5a55e04"
      },
      "execution_count": null,
      "outputs": [
        {
          "output_type": "stream",
          "name": "stdout",
          "text": [
            "Downloading...\n",
            "From: https://drive.google.com/uc?id=19U964za8AehFLoXaZz8ZSYGJS4m8armQ\n",
            "To: /content/szamla.jpg\n",
            "\r  0% 0.00/121k [00:00<?, ?B/s]\r100% 121k/121k [00:00<00:00, 3.06MB/s]\n"
          ]
        }
      ]
    },
    {
      "cell_type": "code",
      "source": [
        "#Python kód:\n"
      ],
      "metadata": {
        "id": "u2cwrsIlZWB_"
      },
      "execution_count": null,
      "outputs": []
    },
    {
      "cell_type": "markdown",
      "source": [
        "#Prompt1"
      ],
      "metadata": {
        "id": "Cw0bSwosZcuu"
      }
    },
    {
      "cell_type": "markdown",
      "source": [],
      "metadata": {
        "id": "YY3cb9TAZcu1"
      }
    },
    {
      "cell_type": "markdown",
      "source": [
        "#Megoldás1:"
      ],
      "metadata": {
        "id": "qcZtLbG8Zcu1"
      }
    },
    {
      "cell_type": "markdown",
      "source": [],
      "metadata": {
        "id": "eVyOl8__Zcu1"
      }
    },
    {
      "cell_type": "markdown",
      "source": [
        "#Prompt2\n"
      ],
      "metadata": {
        "id": "EM4Qi0CnZcu1"
      }
    },
    {
      "cell_type": "markdown",
      "source": [],
      "metadata": {
        "id": "Q9LxT35pZcu1"
      }
    },
    {
      "cell_type": "markdown",
      "source": [
        "#Megoldás2"
      ],
      "metadata": {
        "id": "cmz6EwidZcu1"
      }
    }
  ]
}