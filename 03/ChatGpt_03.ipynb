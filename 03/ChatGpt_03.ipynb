{
  "nbformat": 4,
  "nbformat_minor": 0,
  "metadata": {
    "colab": {
      "provenance": [],
      "authorship_tag": "ABX9TyPITe/LiLWhNDc7XBH1maoo",
      "include_colab_link": true
    },
    "kernelspec": {
      "name": "python3",
      "display_name": "Python 3"
    },
    "language_info": {
      "name": "python"
    }
  },
  "cells": [
    {
      "cell_type": "markdown",
      "metadata": {
        "id": "view-in-github",
        "colab_type": "text"
      },
      "source": [
        "<a href=\"https://colab.research.google.com/github/karsarobert/ChatGpt_2024/blob/main/03/ChatGpt_03.ipynb\" target=\"_parent\"><img src=\"https://colab.research.google.com/assets/colab-badge.svg\" alt=\"Open In Colab\"/></a>"
      ]
    },
    {
      "cell_type": "markdown",
      "source": [
        "#Chat GPT és más nagy nyelvi modellek alkalmazása\n",
        "##PTE Gépi tanulás\n",
        "###3. gyakorlat: Ismerkedés a promptokkal\n",
        "2024. február 19."
      ],
      "metadata": {
        "id": "PgDtxlPV3A9B"
      }
    },
    {
      "cell_type": "markdown",
      "source": [
        "A mai órán a következő témákat tárgyaljuk:\n",
        "* Az LLM promptok bemutatása\n",
        "*\tHogyan működnek az LLM promptok\n",
        "*\tAz LLM promtok típusai\n",
        "*\tAz LLM prompt összetevői\n",
        "*\tSzerepek használata promptokban (\"Role prompting\")\n",
        "*\tHangnem meghatározása\n",
        "*\tMinták használata a promptok hatékonyságának növelésére\n",
        "*\tLLM-prompt kombinációk és példák\n",
        "*\tLLM paraméterek felderítése\n",
        "*\tA prompt tervezés megközelítése (kísérletezés)\n",
        "*\tAz LLM promptok használatának kihívásai és korlátai\n"
      ],
      "metadata": {
        "id": "R57eykd1C6ak"
      }
    },
    {
      "cell_type": "markdown",
      "source": [
        "#Technikai követelmények\n",
        "Ahhoz, hogy a gyakorlaton szereplő promptokkal játszhass, létre kell hoznod egy fiókot az alábbi eszközök egyikénél (vagy többnél):\n",
        "\n",
        "*\tOpenAI ChatGPT: https://chat.openai.com/. Miután létrehoztál egy fiókot, ha még nem tetted volna meg, havi 20 dollárért frissíthetsz ChatGPT Plus-ra. Ez nem szükséges ahhoz, hogy kihasználd ezt a könyvet.\n",
        "*\tGoogle Gemini: https://gemini.google.com/. Ha be vagy jelentkezve egy Google Workspace-fiókba, előfordulhat, hogy az adminisztrátorod még nem engedélyezte a hozzáférést a Bardhoz. Ha ez a helyzet, kérd meg az adminisztrátort, hogy engedélyezze a hozzáférést.\n",
        "* Hugging Chat: https://huggingface.co/chat\n"
      ],
      "metadata": {
        "id": "7dS0lbNSDO3n"
      }
    },
    {
      "cell_type": "markdown",
      "source": [
        "## Promptolás\n",
        "\n",
        "**Az LLM-ek (nagy nyelvi modellek) forradalmasítják a technológiával való interakciónkat.** Ezek a modellek, mint pl. az OpenAI GPT-4, a Google LaMDA és az Anthropic Claude, programozottan, API-kon keresztül, vagy chat felületeken (pl. OpenAI ChatGPT, Google Bard, Anthropic Claude) érhetők el.\n",
        "\n",
        "**A prompt tervezés (prompt engineering) kulcsfontosságú az LLM-ek hatékony használatához.** Ez magában foglalja a bemeneti promptok megtervezését és finomítását a kívánt kimenetek elérése érdekében. A prompt tervezés multidiszciplináris terület, nyelvészet, kognitív tudomány, mesterséges intelligencia, felhasználói élménytervezés és etika ismereteit is igényli.\n",
        "\n",
        "**Ez a rész átfogó keretet nyújt a prompt tervezés megértéséhez és elsajátításához.** Célja, hogy felvértezze az olvasókat a szükséges eszközökkel az LLM-ekben rejlő teljes potenciál kiaknázásához.\n",
        "\n",
        "**Kulcsfontosságú pontok:**\n",
        "\n",
        "* Az LLM-ek forradalmasítják a technológiával való interakciónkat.\n",
        "* A prompt tervezés kulcsfontosságú az LLM-ek hatékony használatához.\n",
        "* A prompt tervezés multidiszciplináris terület.\n",
        "* Ez a fejezet segít a prompt tervezés elsajátításában és az LLM-ek teljes potenciáljának kiaknázásában.\n"
      ],
      "metadata": {
        "id": "rTzsh_mFD7IH"
      }
    },
    {
      "cell_type": "markdown",
      "source": [
        "## Hogyan működnek az LLM promptok?\n",
        "\n",
        "**Bevezetés:**\n",
        "\n",
        "* Az LLM-ek (nagy nyelvi modellek) mesterséges intelligencia (MI) formája, amely az emberi nyelv megértésére és generálására összpontosít.\n",
        "* Kifinomult gépi tanulási algoritmusokat, főleg neurális hálózatokat használnak hatalmas mennyiségű szöveges adat feldolgozására és elemzésére.\n",
        "* Az LLM-ek fő célja, hogy összefüggő, kontextusba illeszkedő és emberszerű válaszokat adjanak a megadott bemeneti promptokra.\n",
        "\n",
        "**Az LLM-ek működési elve:**\n",
        "\n",
        "* Az LLM-ek architektúrája speciális neurális hálózatokat, úgynevezett Transformereket használ.\n",
        "* A Transformerek \"önfigyelmet\" (self-attention) alkalmaznak, ami azt jelenti, hogy a modell a mondat különböző részeire összpontosíthat, és eldöntheti, hogy mely szavak fontosabbak egy adott kontextusban.\n",
        "* A \"pozíciós kódolás\" (positional encoding) segít a modellnek nyomon követni a szavak sorrendjét a mondatban.\n",
        "* Ezekkel a funkciókkal az LLM-ek jól tudják feldolgozni és megérteni a hosszú szövegeket.\n",
        "\n",
        "**Az LLM-ek képzése:**\n",
        "\n",
        "* Két fő fázisból áll: előképzésből (pre-training) és finomhangolásból (fine-tuning).\n",
        "* Az előképzés során az LLM hatalmas mennyiségű szöveges adatot kap, mint pl. könyvek, cikkek, weboldalak.\n",
        "* Ezután a modell felismeri a nyelvi szerkezet mintáit, megtanulja a szavak sorrendjét és a nyelvtani szabályokat, és összekapcsolja a szavakat a fogalmakkal.\n",
        "* A finomhangolás során az LLM specifikus feladatok elvégzésére tanítva kap kisebb adathalmazokat.\n",
        "* Címkézett példákkal tanítják, hogy megtanulja a kívánt kimenetet.\n",
        "\n",
        "**Válaszgenerálás:**\n",
        "\n",
        "* Amikor egy promptot adunk az LLM-nek, az elemzi a promptot a neurális hálózata segítségével.\n",
        "* A modell az előképzés és a finomhangolás során tanult mintákra támaszkodik a válasz generálásához.\n",
        "* A kontextusablak mérete befolyásolja a válasz koherenciáját és mélységét.\n",
        "* Az LLM \"few-shot\" és \"zero-shot\" tanulásra is képes, ami azt jelenti, hogy minimális további képzéssel alkalmazkodhat új feladatokhoz.\n",
        "\n",
        "**Az LLM-ek erősségei:**\n",
        "\n",
        "* Képesek komplex és kreatív szövegformátumok generálására, mint pl. versek, kód, forgatókönyvek, zeneszerzemények, e-mailek, levelek.\n",
        "* Széles körben alkalmazhatók a természetes nyelv feldolgozásának (NLP) területén, mint pl. fordítás, kérdés-válaszadás, szövegösszefoglalás, érzelemfelismerés.\n",
        "\n",
        "**Az LLM-ek korlátai:**\n",
        "\n",
        "* Néha pontatlan vagy értelmetlen válaszokat adhatnak.\n",
        "* Érzékenyek a bemeneti prompt megfogalmazására.\n",
        "* Előítéleteket mutathatnak a képzési adatokban rejlő torzítások miatt.\n",
        "\n",
        "**A prompt-tervezés:**\n",
        "\n",
        "* Kulcsfontosságú szerepet játszik az LLM-ek korlátainak enyhítésében és a kívánt kimenetek elérésében.\n",
        "* Multidiszciplináris terület, nyelvészeti, kognitív tudományi, mesterséges intelligencia, felhasználói élménytervezési és etikai ismereteket is igényel.\n",
        "\n",
        "**Jövőbeli trendek:**\n",
        "\n",
        "* A kutatások egymillió vagy több tokenes modellek fejlesztésére összpontosítanak 2024-re.\n",
        "* A kontextusablak méretének növelése javíthatja a válaszok koherenciáját és mélységét.\n",
        "\n",
        "**Következtetés:**\n",
        "\n",
        "Az LLM-ek forradalmasítják a technológiával való interakciónkat. A prompt-tervezés kul"
      ],
      "metadata": {
        "id": "Se78Z6xoFKV8"
      }
    },
    {
      "cell_type": "markdown",
      "source": [
        "#Az LLM promptok típusai\n",
        "\n",
        "Az LLM promptok többféle szempont alapján kategorizálhatók, például céljuk, formátumuk és a megadott részletesség szintje szerint.\n",
        "##Az egyik módja a besorolásnak az, hogy milyen típusú információt kérdezünk:\n",
        "\n",
        "*\tZero-shot prompting: Ez egy olyan technika, amely lehetővé teszi az LLM számára, hogy válaszokat generáljon olyan feladatokra, amelyekre nem képezték ki kifejezetten. Ebben a technikában az LLM egy bemeneti szöveget és egy promptot kap, amely természetes nyelven írja le a modelltől elvárt kimenetet. Az LLM ezután a tudását felhasználva olyan választ generál, amely összhangban van a prompttal.\n",
        "\n",
        "Prompt:\n",
        "*Írj egy verset a szerelemről a vers legyen szép és romantikus.*"
      ],
      "metadata": {
        "id": "b0clndkFH93k"
      }
    },
    {
      "cell_type": "markdown",
      "source": [
        "*\tFinomhangolás (Fine-tuning): Finomhangolás során az LLM-et kis adathalmazon képezik, amely címkézett példákat tartalmaz arra a feladatra, amelyet el kell végeznie. Ez hatékonyabb módja lehet a kiváló minőségű válaszok generálásának, de nagyobb címkézett példa adathalmazt igényel.\n",
        "Például tegyük fel, hogy a bemeneti szöveg egy cikk a rákkezelés új kutatásairól, míg a képzési adatok a rákos kutatásokról szóló cikkek, amelyeket összefoglalókkal láttak el. Íme a prompt ehhez.\n",
        "\n",
        "Prompt: Foglald össze az input cikkben ismertetett kutatás főbb megállapításait."
      ],
      "metadata": {
        "id": "GrdirnPQI2bt"
      }
    },
    {
      "cell_type": "markdown",
      "source": [
        "*\tAdatbővítés (Data augmentation): Az adatbővítés során az LLM-et olyan adatkészleten képezik, amelyet mesterségesen kibővítettek zaj vagy variációk hozzáadásával a meglévő adatokhoz. Ez javíthatja az LLM teljesítményét olyan feladatoknál, ahol korlátozott mennyiségű címkézett adat áll rendelkezésre.\n"
      ],
      "metadata": {
        "id": "3tUoSbd8JJub"
      }
    },
    {
      "cell_type": "markdown",
      "source": [
        "* Aktív tanulás (Active learning): Az aktív tanulásban, más néven \"few-shot\" tanulásban, az LLM kis számú címkézett példát kap, majd felkérik, hogy azonosítsa a legfontosabb példákat a címkézéshez. Ez hatékonyabb módja lehet az LLM képzésének, mivel azokra a példákra összpontosít, amelyek a leghasznosabbak a modell teljesítményének javításában. A finomhangolás globálisan történik minden beszélgetésre vonatkozóan. Az aktív tanulás során a felhasználó néhány példát ad a promptok során, hogy a kimenetek egy bizonyos mintát kövessenek.\n",
        "\n"
      ],
      "metadata": {
        "id": "vOEODVLuGfuv"
      }
    },
    {
      "cell_type": "markdown",
      "source": [
        "* Transzfertanulás (Transfer learning): A transzfertanulás során az LLM-et olyan feladatra képezik, amely hasonló ahhoz, amire kérték. Ez hatékonyabb módja lehet a kiváló minőségű válaszok generálásának, mivel lehetővé teszi az LLM számára, hogy nagyobb adathalmazból tanuljon."
      ],
      "metadata": {
        "id": "z01wJB-cKPmj"
      }
    },
    {
      "cell_type": "markdown",
      "source": [
        "##A promptok osztályozásának másik módja a funkciójuk:\n",
        "\n",
        "##Utasítás promptok (Instructional prompts):\n",
        "Ezek a promptok kifejezetten arra utasítják a modellt, hogy hajtson végre egy adott feladatot, például egy szöveg összesítését, egy mondat fordítását vagy egy kérdés megválaszolását. Az utasításos promptok általában egyértelmű utasítással kezdődnek, mint például\n",
        "\n",
        "Fordításd le a következő mondatot franciára: vagy Foglald össze a következő bekezdést\n",
        "\n",
        "##Társalgási promptok (Conversational prompts):\n",
        "Ezeket a promptokat úgy tervezték, hogy a modellt természetes, emberszerű beszélgetésbe vonják be.\n",
        "Kérdések vagy állítások formájában is megfogalmazhatók, és gyakran oda-vissza párbeszédet folytatnak a felhasználó és a modell között. A társalgási promptok a témák széles skáláját fedhetik le, a kötetlen csevegéstől a konkrét témákról folytatott fókuszáltabb beszélgetésekig. Nézzünk egy példát.\n",
        "\n",
        "Prompt: Szia! Hogy vagy ma?\n",
        "Válasz: Jól vagyok, köszi, hogy kérdezted. És te?\n",
        "Prompt: Egy kicsit fáradt vagyok, de nem panaszkodhatom. Mik a terveid a hétvégére?\n",
        "Ez az oda-vissza kommunikáció természetes, szabadon áramló beszélgetést tesz lehetővé. A társalgási promptok fontosak a személyes, segítőkész mesterséges intelligencia asszisztensek kifejlesztéséhez.\n"
      ],
      "metadata": {
        "id": "Y7k7E4nIKV1T"
      }
    },
    {
      "cell_type": "markdown",
      "source": [
        "##Kontextusos promptok (Contextual prompts):\n",
        "Ezek a promptok háttér- vagy kontextuális információkat nyújtanak, amelyek irányítják a modell válaszát. A kontextusos promptok segítenek a modellnek megérteni a felhasználó szándékát, a válasz kívánt formátumát, vagy a válaszgenerálás során figyelembe veendő korlátozásokat. Tartalmazhatnak példákat, magyarázatokat vagy leírásokat, amelyek segítenek tisztázni a feladatot.\n",
        "\n",
        "Íme egy példa:\n",
        "Egy OpenAI által létrehozott mesterséges intelligencia asszisztens vagy, aki segítőkész, ártalmatlan és őszinte. A felhasználó megkért, hogy foglald össze a főbb eseményeket a következő szövegrészben: [szövegrész]\n",
        "\n",
        "##Kreatív promptok (Creative prompts):\n",
        "Ezek a promptok arra ösztönzik a modellt, hogy eredeti tartalmat vagy ötleteket generáljon, például versírás, történetalkotás, vagy megoldások ötletelése egy problémára. A kreatív promptok gyakran teret engednek a modell képzeletének, és több iterációt és finomítást igényelhetnek a kívánt eredmény eléréséhez.\n",
        "\n",
        "Erre példa: Írj egy haiku verset az óceánról.\n",
        "\n",
        "##Tényalapú promptok (Factual prompts):\n",
        "\n",
        "Ezek a promptok pontos és konkrét információkat vagy ismereteket keresnek a modelltől, gyakran kérdés formájában. Példák lehetnek a történelmi eseményekre, tudományos fogalmakra vagy általános érdekességekre vonatkozó kérdések. A tényszerű promptok a modell azon képességére támaszkodnak, hogy felidézze és szintetizálja az előképzés során tanult információkat. Egy példa erre: Melyik évben írták alá a Függetlenségi Nyilatkozatot?\n",
        "\n",
        "##Lépésenkénti promptok (Step-by-step prompts):\n",
        "\n",
        "Ezek a promptok megkövetelik a modelltől, hogy megadja a lépések sorozatát vagy egy eljárást egy adott feladat elvégzéséhez, például egy receptet, oktatóanyagot vagy algoritmust. A lépésenkénti promptok megkövetelik a modelltől, hogy koherens, rendezett és logikus utasításokat generáljon\n",
        "\n",
        "például *Sütés közben, minden lépést elmagyarázva írd le egy torta elkészítésének az útmutatásait. A lépésenkénti promptokat gyakran használják arra, hogy megkérjék az LLM-et egy matematikai probléma megoldására."
      ],
      "metadata": {
        "id": "eYcnYrLOLC3H"
      }
    },
    {
      "cell_type": "markdown",
      "source": [
        "##Példa\n",
        "\n",
        "*Prompt: Mennyi 5+3*8+5?*\n",
        "\n",
        "Az alapvető matematikai műveletrend szerint a szorzásokat és az osztásokat kell először elvégezni, majd pedig az összeadásokat és kivonásokat. Tehát:\n",
        "\n",
        "5 + 3 * 8 + 5 = 5 + 24 + 5\n",
        "\n",
        "Most pedig összeadjuk:\n",
        "\n",
        "5 + 24 + 5 = 34 + 5 = 39\n",
        "\n",
        "Tehát az eredmény 39.\n",
        "\n",
        "Ez helytelen válasz. Ezért lépésről lépésre haladó promptot kell használnunk, hogy megkapjuk a helyeset.\n",
        "\n",
        "*Prompt: oldd meg lépésről lépésre*\n",
        "\n",
        "Természetesen, itt van a megoldás lépésről lépésre:\n",
        "Először szorozzuk meg a 3-at és a 8-at:\n",
        "3 * 8 = 24\n",
        "Most adjuk hozzá az eredményt a 5-höz:\n",
        "5 + 24 = 29\n",
        "Végül adjuk hozzá az eredményhez az utolsó 5-öt:\n",
        "29 + 5 = 34\n",
        "Tehát a megoldás lépésről lépésre:\n",
        "5 + 3 * 8 + 5 = 34\n",
        "\n",
        "**A probléma egyértelmű, sorrendi lépésekre bontásával képes voltam a műveleteket a megfelelő műveleti sorrendben kiértékelni. Ez a lépésről-lépésre történő megközelítés megakadályozott abban, hogy hibát kövessek el a szorzás előtti összeadással.**\n"
      ],
      "metadata": {
        "id": "aBwdgit3MIuu"
      }
    },
    {
      "cell_type": "markdown",
      "source": [
        "*Ön egy zseniális matematikus, aki a világ bármely problémáját meg tudja oldani. Próbálja meg megoldani a következő problémát:*\n",
        "\n",
        "Mennyi a 100 * 100 / 400 * 56?"
      ],
      "metadata": {
        "id": "5B3iAX2YFPq2"
      }
    },
    {
      "cell_type": "markdown",
      "source": [
        "##Véleményalapú promptok (Opinion-based prompts):\n",
        "Ezek a promptok arra kérik a modellt, hogy véleményt, nézőpontot vagy ajánlást tegyen egy adott témában. Bár az LLM-eknek nincs személyes meggyőződésük vagy preferenciáik, a képzési adataikból származó minták és meglátások alapján válaszokat generálhatnak. A véleményalapú promptok gyakran megkövetelik a modell kimenetében jelenlévő potenciális torzítások alapos mérlegelését\n",
        "\n",
        " *Prompt: Mik az önvezető autók technológiájának előnyei és hátrányai? Támaszd alá a nézőpontodat.*"
      ],
      "metadata": {
        "id": "HnZeRjSVLOJr"
      }
    },
    {
      "cell_type": "markdown",
      "source": [
        "##Multimodális promptok (Multi-modal prompts):\n",
        "\n",
        " Ezek a promptok több modalitásból származó bemeneti adatokat tartalmaznak, például szöveget kombinálva képekkel, hanggal vagy videóval. A multimodális promptok megkövetelik, hogy a modell különböző forrásokból származó információkat dolgozzon fel és integráljon, hogy megfelelő választ generáljon. Míg egyes LLM-eket elsősorban szöveges alapú interakciókra terveztek, a mesterséges intelligencia legújabb vívmányai olyan modellek kifejlesztéséhez vezettek, amelyek képesek multimodális inputok kezelésére, mint például az OpenAI DALL-E és CLIP. Példa erre:\n",
        "\n",
        "*Prompt: Írd le a jelenetet ezen a képen: [kép beillesztése]*"
      ],
      "metadata": {
        "id": "ni-RSaesOkHp"
      }
    },
    {
      "cell_type": "markdown",
      "source": [
        "##Szisztematikus promptok (Systematic prompts):\n",
        "\n",
        "Ezek a promptok olyan válaszok kiváltására irányulnak, amelyek egy adott struktúrát, mintát vagy formátumot követnek. Ilyen például egy lista készítése, egy esszé vagy prezentáció vázlatának elkészítése, vagy egy adott téma strukturált elemzésének bemutatása. A szisztematikus promptok gyakran megkövetelik a modelltől, hogy az információkat koherensen és logikusan rendszerezze és prezentálja. Íme egy példa:\n",
        "\n",
        "*Prompt: Osztályozd a következő állatokat taxonómiai csoportokba: [csörgő kígyó, szarvasmarha, szamár, tintahal]*"
      ],
      "metadata": {
        "id": "4Avan0cHOTRS"
      }
    },
    {
      "cell_type": "markdown",
      "source": [
        "##Promptláncok (Prompt chains), más néven gondolatláncok (chain of thought):\n",
        "\n",
        "Ezek a promptok összekapcsolt bemenetek és kimenetek sorozatát foglalják magukban, ahol a modellnek az egyik promptra adott válasza szolgál a következő prompt bemeneteként. A promptláncok használhatók összetett problémamegoldásra, többlépcsős feladatokra, vagy a modellel folytatott beszélgetés folytonosságának fenntartására. Nézzünk egy példát:\n",
        "\n",
        "*Prompt: Mi Franciaország fővárosa?\n",
        "Válasz: Franciaország fővárosa Párizs.\n",
        "Prompt: Mennyi Párizs lakossága?*\n"
      ],
      "metadata": {
        "id": "iQjPprvIPslJ"
      }
    },
    {
      "cell_type": "markdown",
      "source": [
        "Melyik a gyorsabb út hazafelé?\n",
        "1. lehetőség: 10 perc busszal, majd 40 perc busszal, végül 10 perc vonattal.\n",
        "2. lehetőség: 90 perc vonattal, majd 45 perc kerékpárral, végül 10 perc busszal.\n",
        "Az 1. lehetőség 10+40+10=60 percig tart.\n",
        "A 2. lehetőség 90+45+10=145 percig tart.\n",
        "Mivel az 1. lehetőség 60 percig tart, a 2. lehetőség pedig 145 percig, az 1. lehetőség gyorsabb.\n",
        "\n",
        "Melyik a gyorsabb módja a munkába járásnak?\n",
        "1. lehetőség: 1000 perc buszozás, majd fél óra vonatozás, végül 10 perc biciklizés.\n",
        "2. lehetőség: 800 perc buszozás, majd egy órás vonatozás, végül 30 perc biciklizés.\n",
        "\n",
        "##A mágikus rész: Gondolkozz lépésről lépésre"
      ],
      "metadata": {
        "id": "3BtJBxszP41B"
      }
    },
    {
      "cell_type": "markdown",
      "source": [
        "#Az LLM promptok összetevői\n",
        "\n",
        "##Feladatleírás:\n",
        "A prompt alapvető összetevője a feladat világos és tömör leírása, amelyet a modelltől elvárunk. Ez lehet egy utasítás, egy kérdés vagy egy megállapítás, amely meghatározza az interakció célját, például egy bekezdés összefoglalását, szövegfordítást vagy kérdés megválaszolását.\n",
        "\n",
        "Íme egy példa: * Foglald össze a következő bekezdést két mondatban: *\n",
        "\n",
        "##Kontextus:\n",
        "A prompton belüli kontextus megadása segít a modellnek megérteni a feladathoz kapcsolódó környezetet, korlátokat és háttér információkat. Ez magában foglalhat területspecifikus terminológiát, példákat vagy magyarázatokat, amelyek irányítják a modell válaszadását. A kontextusra vonatkozó információk különösen hasznosak lehetnek a kétértelműség feloldásához, a modell fókuszának finomításához, vagy annak biztosításához, hogy a kimenet egy adott formátumot vagy stílust kövessen.\n",
        "\n",
        "Íme egy példa: * Egy tudományos kutatómunka összefüggésében adj egy tömör összefoglalót a fő megállapításokról.*\n",
        "\n",
        "##Bemeneti adatok (Input data):\n",
        "A bemeneti adatok az a tényleges tartalom, amelyet a modell feldolgoz, és amelyre adott válaszát alapozza. Ez lehet egy mondat, egy bekezdés, vagy egy sor kérdés vagy állítás. A bemeneti adatoknak relevánsnak kell lenniük a feladat szempontjából, és úgy kell megfogalmazniuk, hogy a modell számára könnyen érthető és elemezhető legyen.\n",
        "\n",
        "Íme egy példa: * Az éghajlatváltozás a globális hőmérséklet emelkedéséhez, a sarki jég olvadásához és a tengerszint emelkedéséhez vezetett. A tengeri ökoszisztémákra gyakorolt következmények súlyosak, sok faj küzd, hogy alkalmazkodjon a gyorsan változó környezethez. Különösen a korallzátonyokat fenyegeti az óceánok savasodása és a meleg vízhőmérséklet okozta kifehéredési események.*\n",
        "\n",
        "##Helyőrző tokenek (Placeholder tokens):\n",
        "Egyes esetekben a promptok helykitöltő tokeneket (változókat) tartalmazhatnak, amelyek jelzik, hogy a modellnek hová kell beszúrnia a válaszát. Ezek a tokenek segíthetnek megőrizni a kimenet struktúráját és formátumát, különösen akkor, ha több kimenetet vagy választ kell generálni egy meghatározott sorrendben vagy elrendezésben.\n",
        "\n",
        "Nézzünk egy példát: *Prompt: Képzeld el, hogy először látogatsz meg egy [Város_neve] nevű várost. [Napok_száma] napod van, hogy felfedezd a várost és megtapasztald a kultúráját. Mik a top [Látnivalók_száma] látnivalók vagy tevékenységek, amelyeket szeretnél csinálni, amíg ott vagy? Válaszolj az egyes érdeklődési körök rövid leírásával, és magyarázd meg, miért érdekelnek.*\n",
        "\n",
        "Válasz: * ... (A modell válasza erre a promptra több szakaszra lenne bontva, és számokkal jelezné az egyes attrakciókat)*\n",
        "\n",
        "Mivel az eredeti prompt változókat tartalmaz (a []-ben szereplő kifejezések), a felhasználó most már csak egy prompt megadásával is kérdezhet újra, például a következővel:\n",
        "[Város_neve]: Párizs\n",
        "[Napok_száma]: 4\n",
        "[Látnivalók_száma]: 10\n"
      ],
      "metadata": {
        "id": "KM3l3VeCPSAp"
      }
    },
    {
      "cell_type": "markdown",
      "source": [
        "##Példák beépítése a promptba\n",
        "\n",
        "A példák beépítése a promptba előnyös lehet, különösen, ha kevés példán alapuló tanulási (few-shot learning) helyzetekről van szó. Ezek a példák a kívánt formátum bemutatásaként szolgálnak, és segíthetnek a modellnek hatékonyabban megérteni a feladatot. A példák különösen értékesek lehetnek, ha a feladat összetett, vagy megköveteli, hogy a modell meghatározott szerkezetben generáljon kimeneteket. Nézzünk egy példát\n",
        "\n",
        "Prompt: Kérlek, osztályozd pozitív, negatív vagy semleges kategóriába a következő termékvéleményt.\n",
        "\n",
        "Íme egy példa:\n",
        "Bemenet: A hangszórók nagyon tiszta és éles hangot adtak mély basszussal. A beállítás gyors és egyszerű volt. Összességében egy kiváló termék, amelyet nagyon ajánlok.\n",
        "\n",
        "Kimenet: Pozitív\n",
        "\n",
        "Bemenet: Ezek a fejhallgatók könnyűek és kényelmesek, de a hangminőség csilingelő és hiányzik belőle a basszus. A zajszűrő funkció legjobb esetben is középszerű. Kérlek, osztályozd pozitív, negatív vagy semleges kategóriába a következő termékvéleményt.\n",
        "\n",
        "Íme egy újabb példa.\n",
        "\n",
        "Bemenet: A hangszórók nagyon tiszta és éles hangot adtak mély basszussal. A beállítás gyors és egyszerű volt. Összességében egy kiváló termék, amelyet nagyon ajánlok.\n",
        "\n",
        "Kimenet: Pozitív\n",
        "\n",
        "Bemenet: *Ezek a fejhallgatók könnyűek és kényelmesek, de a hangminőség csilingelő és hiányzik belőle a basszus. A zajszűrő funkció legjobb esetben is középszerű. *\n"
      ],
      "metadata": {
        "id": "4Qe54J-YVzzS"
      }
    },
    {
      "cell_type": "markdown",
      "source": [
        "##Korlátozások (Constraints):\n",
        "Néha korlátozásokat kell szabni a modell válaszira, hogy az megfeleljen bizonyos követelményeknek, irányelveknek, vagy elkerülje a problémás tartalmat. A korlátozásokat kifejezetten meg lehet fogalmazni a promptban, vagy implicit módon, a feladat leírásának és szövegkörnyezetének gondos kialakításával.\n",
        "\n",
        "Nézzünk egy példát.\n",
        "Prompt: Írj egy rövid, 4 soros, AABB rímképletű verset a napkeltéről.\n"
      ],
      "metadata": {
        "id": "_pm2yR02WsCB"
      }
    },
    {
      "cell_type": "markdown",
      "source": [
        "##Hangnem és stílus:\n",
        "A prompt hangneme és stílusa befolyásolhatja a modell válaszát. A kívánt hangnem megadása - például formális, kötetlen vagy meggyőző - segíthet olyan kimenetek generálásában, amelyek összhangban vannak a rendeltetéssel és a közönséggel.\n",
        "A következő példa szarkasztikus hangnemet határoz meg.\n",
        "\n",
        "Prompt: Írj egy 100 szavas termékvéleményt, amely gúnyolja egy ostoba konyhai kütyü haszontalan funkcióit és gyenge kialakítását. Használj túlzóan szarkasztikus hangnemet.\n",
        "\n",
        "A következő példa kalóz hangnemet határoz meg. Prompt: Szerezz egy kalóz naplóbejegyzést, amely elmeséli a kincskeresés egy napját a nyílt tengeren. Használj kalózszlenget és nyelvet.\n"
      ],
      "metadata": {
        "id": "zSXvpJlGXRGQ"
      }
    },
    {
      "cell_type": "markdown",
      "source": [
        "##Promptok összetevői közötti kölcsönhatás\n",
        "\n",
        "A teljes prompt a következő lenne:\n",
        "\n",
        "\"Foglald össze a következő bekezdést két mondatban. Egy tudományos kutatómunka összefüggésében adj egy tömör összefoglalót a fő megállapításokról. A bekezdés a következő: [bekezdés]. Győződj meg arról, hogy az összefoglaló nem haladja meg a két mondatot, és kerüld a túlságosan szakmai kifejezések használatát. Adj egy világos, tömör és az általános közönség számára alkalmas összefoglalót. 1. példa: Bemenet: [Bemenő adat] Kimenet: [Összegzés] 2.példa: Bemenet: [Bemenő adat] Kimenet: [Összegzés] \"\n"
      ],
      "metadata": {
        "id": "0OQXzVRyYbFA"
      }
    },
    {
      "cell_type": "markdown",
      "source": [
        "#Példák:\n",
        "\n",
        "Olvassa el a következő részletet egy esszéből, és adjon visszajelzést a következő kritériumok alapján: nyelvtan, egyértelműség, koherencia, érvek minősége és bizonyítékok felhasználása. Adjon meg egy 1-től 10-ig terjedő pontszámot minden tulajdonsághoz, és indokolja meg pontszámát.\n",
        "\n",
        "\"A közhiedelem ellenére nincs szilárd bizonyíték arra, hogy a videojátékok erőszakos viselkedéshez vezetnek. A témával kapcsolatos kutatások gyakran ellentmondásosak és nem meggyőzőek. Egyes tanulmányok összefüggést találtak, de a korreláció nem utal ok-okozati összefüggésre. Tehát korai a videojátékokat hibáztatni a társadalomban tapasztalható erőszakért.\""
      ],
      "metadata": {
        "id": "KRnIbghUdjMq"
      }
    },
    {
      "cell_type": "markdown",
      "source": [
        "Olvassa el a következő értékesítési e-mailt. Távolítson el minden személyazonosításra alkalmas információt, nevet és cserélje ki a megfelelő helyőrzővel. Például cserélje ki a „Aranyosi Péter” nevet „[NÉV]”-re.\n",
        "\n",
        "Szia Péter!\n",
        "\n",
        "Azért írok Önnek, mert észrevettem, hogy nemrég vásárolt egy új autót. Én eladó vagyok\n",
        "egy helyi márkakereskedésben (Jó vétel), és szeretném tudatni veled, hogy nagyon sok új\n",
        "autó. Ha érdekel, kérlek jelezd.\n",
        "\n",
        "Köszönöm,\n",
        "\n",
        "Varga Ákos\n",
        "\n",
        "Telefon: 410-805-2345\n",
        "E-mail: jovetel&jovetel.hu"
      ],
      "metadata": {
        "id": "mrYKGpO2eIyA"
      }
    },
    {
      "cell_type": "markdown",
      "source": [
        "##Szakértői szerepek:\n",
        " A felhasználó úgy tehet, mintha egy adott területen vagy szakterületen szakértő lenne, például tudós, történész vagy szakember, hogy konkrétabb és megalapozottabb válaszokat váltson ki a modellből. Ez a megközelítés arra is ösztönözheti a modellt, hogy részletesebb és árnyaltabb információkat nyújtson, kihasználva a kiterjedt előképzés során szerzett ismereteit. Azt is kérheti a rendszertől, hogy tegyen úgy, mintha szakember lenne, vagy viselkedjen valaki úgy. Nézzünk egy példát.\n",
        "\n",
        "*Prompt: Tapasztalt szoftvermérnökként Python használatát javaslom webes kaparási projektedhez, mivel egyszerű és rendelkezésre állnak olyan hatékony könyvtárak, mint a BeautifulSoup és a Scrapy. Melyek a Python web scraping használatának előnyei és hátrányai?*\n"
      ],
      "metadata": {
        "id": "Yo-i_zcKiojf"
      }
    },
    {
      "cell_type": "markdown",
      "source": [
        "##Szerepek\n",
        "\n",
        "Promptok:\n",
        "\n",
        "*Írjon véleményt a McDonald's  sajtburgeréről.*\n",
        "\n",
        "*Ön egy élelmiszermérnök, írjon véleményt a McDonald's  sajtburgeréről.*\n",
        "\n",
        "*Ön egy ételkritikus, írjon véleményt a McDonald's  sajtburgeréről.*\n",
        "\n",
        "*Ön az amerikai polgárháborúra szakosodott történész. Írjon rövid összefoglalót a háború legfontosabb eseményeiről és kimeneteleiről!*\n"
      ],
      "metadata": {
        "id": "NVwTRZVbhQ9a"
      }
    },
    {
      "cell_type": "markdown",
      "source": [
        "*2000. január 1.: Jobb kar törött kosárlabdázás közben. Gipsszel kezelve. 2010. február 15.: Magas vérnyomással diagnosztizálták. Lizinoprilt írt fel. 2015. szeptember 10.: Kifejlődött tüdőgyulladás. Antibiotikummal kezelték és teljesen felépült. 2022. március 1.: Egy autóbalesetben agyrázkódást szenvedett. Kórházba került, és 24 órán keresztül megfigyelés alatt áll.*\n",
        "\n",
        "*Orvos vagy. Olvassa el ezt a kórtörténetet, és jelezze előre a páciensre vonatkozó kockázatokat.*"
      ],
      "metadata": {
        "id": "BHi0uffUcnCa"
      }
    },
    {
      "cell_type": "markdown",
      "source": [
        "Ön kommunikációs szakember. Készítsen egy e-mailt ügyfelének, amelyben tájékoztatja őket a szállítási ütemezés logisztikai problémák miatti késéséről.\n",
        "\n",
        "Ön marketing szakértő. Készítsen egy e-mailt az ügyfélnek, amelyben tájékoztatja őket a szállítási ütemezés logisztikai problémák miatti késéséről.\n",
        "\n"
      ],
      "metadata": {
        "id": "t9_epFw2Ermp"
      }
    },
    {
      "cell_type": "markdown",
      "source": [
        "##Fiktív szerepek:\n",
        "\n",
        "A felhasználó felveheti egy kitalált karakter, például egy nyomozó vagy\n",
        "egy felfedező személyiségét, hogy magával ragadóbb és kreatívabb interakciót hozzon\n",
        "létre a modellel. Ez különösen hasznos lehet történetek, párbeszédek vagy szerepjáték-\n",
        "forgatókönyvek generálásához. Nézzünk egy példát:\n",
        "\n",
        "*Prompt: Sherlock Holmesként arra következtettem, hogy az ellopott festménynek a\n",
        "kikötőben lévő elhagyatott raktárban kell lennie. Dr. Watsonként tudnál adni egy részletes tervet a festmény visszaszerzésére?*\n",
        "\n",
        "##Vezető szerepek:\n",
        "\n",
        "A felhasználó olyan szerepet vállalhat, amely irányítja vagy mentorálja\n",
        "a modellt, például tanár vagy edző szerepét. Ez a megközelítés arra ösztönzi a modellt,\n",
        "hogy mélyebben elgondolkodjon a témában, alternatív nézőpontokat fedezzen fel, vagy\n",
        "finomítsa a komplex fogalmak megértését. Nézzünk egy példát:\n",
        "\n",
        "*Prompt: Biológia korrepetálóként szeretném áttekinteni veled a fotoszintézis folyamatát. Eltudod magyarázni a fényfüggő és fényfüggetlen reakciókat saját szavaiddal?*\n",
        "\n",
        "##Együttműködő szerepek:\n",
        "A felhasználó olyan szerepet vállalhat, amely az\n",
        "együttműködést vagy partnerséget hangsúlyozza a modellel, például csapattárs vagy társszerző szerepét. Ez a megközelítés dinamikusabb interakciókhoz, kölcsönös tanuláshoz és szinergikus problémamegoldáshoz vezethet. Nézzünk egy példát:\n",
        "\n",
        "*Prompt: A fenntartható mezőgazdaságról szóló cikkünk társszerzőjeként megírtam a bevezetőt és az első részt. Tudnál adni egy jól kutatott és informatív részt\n",
        "vetésforgó előnyeiről?*"
      ],
      "metadata": {
        "id": "Jo6NajmLiCBi"
      }
    },
    {
      "cell_type": "markdown",
      "source": [
        "##Few-shot tanulás – modellek képzése példapromptokkal\n",
        "\n",
        "A példapromptoknak az edzés során történő használata során a modellt olyan válaszok generálására irányítják, amelyek összhangban vannak a kívánt formátummal, stílussal vagy tartalommal egy adott feladathoz.\n",
        "\n",
        "Íme néhány példa példapromptok különféle feladatokhoz történő felhasználására:\n",
        "##Szövegösszegzés:\n",
        "\n",
        "*Prompt: Foglald össze a következő szöveget egy mondatban. Példa: Bemenet: A fürge róka átugrik a lusta kutyán. A kutya nem tűnik zavartnak. Kimenet: Egy róka átugrik egy lusta kutyán, aki meg sem rezdül. Bemenet: Jane elment a boltba, hogy élelmiszert vásároljon. Gyümölcsöket, zöldségeket és néhány rágcsálnivalót vásárolt családjának. Kimenet:*\n",
        "\n",
        "\n",
        "##Nyelvi fordítás:\n",
        "*Prompt: Fordítsd le a következő angol szöveget franciára. Példa: Bemenet: Hello, hogy vagy? Kimenet: Bonjour, comment ça va? Bemenet: Mennyi az idő? Kimenet:*\n",
        "\n",
        "##Érzelemelemzés:\n",
        "\n",
        "*Prompt: Határozd meg a következő állítás hangulatát pozitív, negatív vagy semleges kategóriában. Példa: Bemenet: Szeretem ezt a terméket. Kimenet: pozitív. Bemenet: A film unalmas és kiszámítható volt. Kimenet: Válasz: negatív\n",
        "\n",
        "\n",
        "##Szövegbesorolás:\n",
        "Prompt: Osztályozd a következő állatot emlős, madár, hüllő vagy hal kategóriába. Példa: Bemenet: oroszlán Kimenet: emlős Bemenet: sas. Kimenet:*\n",
        "\n",
        "##Analógiák:\n",
        "*Prompt: Fejezd be a következő analógiát. Példa: Bemenet: meleg:hideg::boldog:?\n",
        "Kimenet: szomorú Bemenet: nappal:éjszaka::ébren:? Kimenet:*"
      ],
      "metadata": {
        "id": "uPZ4RKwDf4Rq"
      }
    },
    {
      "cell_type": "markdown",
      "source": [
        "##Házi feladat:\n",
        "\n",
        "Alany, állítmány és tárgy keresése az alábbi szövegből, majd abból gráf készítése pythonban! A gráf élei legyenek az állítmányok. Csúcsai az alany és a tárgy.\n",
        "\n",
        "Rejtő Jenő (született Reich, írói álnevei: P. Howard, Gibson Lavery) (Budapest, Erzsébetváros, 1905. március 29.[6] – Jevdakovo(wd), Kamenkai járás, Voronyezsi terület, oroszországi megszállt övezet, Szovjetunió, 1943. január 1.) magyar író, kabaré- és színpadi szerző, filmíró, a magyar szórakoztató irodalom népszerű képviselője és megújítója.\n",
        "\n",
        "Legismertebb művei látszatra ponyvaregények, azonban életművét ma már nagyra értékelik. Kamaszkorában verseket írt (ezeket nem publikálta), majd 1928-tól komor hangulatú novellákat adott közre a napisajtóban. Az 1930-as évek elején kabarédarabokkal és bohózatokkal jelentkezett a pesti színpadokon. Ezzel egyidőben füzetes ponyvákat, majd operetteket, végül – részben külföldi utazásai során szerzett élményeire támaszkodva – kalandregényeket alkotott. Sajátos stílusát egyéni, groteszk, nyelvi humor és „váratlan abszurd fordulatok, szürreális, gyakran kispolgári figurák és a társadalom fanyar humorba csomagolt kritikája”[7] jellemezte. Legnagyobb sikereit P. Howard álnéven írott ponyvaparódiáival aratta, olvasottsága[8] a Kádár-korban Jókai Móréval vetekedett. A pesti művészi élet ismert alakja volt, barátság fűzte a kor jelentős művészeihez, így például Karinthy Frigyeshez,[9] Kabos Gyulához, Latabár Kálmánhoz, Salamon Bélához is."
      ],
      "metadata": {
        "id": "5mH6vs86PAVt"
      }
    }
  ]
}