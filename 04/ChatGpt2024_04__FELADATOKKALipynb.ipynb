{
  "nbformat": 4,
  "nbformat_minor": 0,
  "metadata": {
    "colab": {
      "provenance": [],
      "authorship_tag": "ABX9TyNQLI3XhTiPLAL3+tgylzmq",
      "include_colab_link": true
    },
    "kernelspec": {
      "name": "python3",
      "display_name": "Python 3"
    },
    "language_info": {
      "name": "python"
    }
  },
  "cells": [
    {
      "cell_type": "markdown",
      "metadata": {
        "id": "view-in-github",
        "colab_type": "text"
      },
      "source": [
        "<a href=\"https://colab.research.google.com/github/karsarobert/ChatGpt_2024/blob/main/04/ChatGpt2024_04__FELADATOKKALipynb.ipynb\" target=\"_parent\"><img src=\"https://colab.research.google.com/assets/colab-badge.svg\" alt=\"Open In Colab\"/></a>"
      ]
    },
    {
      "cell_type": "markdown",
      "source": [
        "#Chat GPT és más nagy nyelvi modellek alkalmazása\n",
        "##PTE Gépi tanulás\n",
        "###4. gyakorlat: Ismerkedés a promptokkal\n",
        "2024. február 26."
      ],
      "metadata": {
        "id": "PgDtxlPV3A9B"
      }
    },
    {
      "cell_type": "markdown",
      "source": [
        "**Felfedezések a strukturálatlan szövegekben – Mesterséges intelligencia technikák szövegelemzéshez**\n",
        "\n",
        "A strukturálatlan szöveges adatok rendkívül értékes felismeréseket rejtenek, azonban a minőségi információk ilyen léptékű értelmezése komoly kihívást jelent. Ezen az órán azokat a technikákat vizsgáljuk, amelyek lehetővé teszik a generatív AI-rendszerek számára a szabad formátumú szövegek automatikus elemzését és rendszerezését.\n",
        "\n",
        "Megtanuljuk, hogyan osztályozza az érzelem-elemzés (sentiment analysis) a szavak mögötti érzelmi tónust, hogy meghatározza, a tartalom pozitív, semleges vagy negatív-e. Láthatjuk, hogy az adatosztályozás hogyan használja a gépi tanulást a szöveg előre meghatározott témákba és címkékbe történő besorolására. Felfedezzük, hogyan tudják a mintázat-illesztési technikák kinyerni a legfontosabb információkat a strukturálatlan adatokból, és azokat strukturált kimenetekké alakítani.\n",
        "\n",
        "Ezek az AI-képességek segítik a vállalkozásokat és szervezeteket abban, hogy hatékonyan dolgozzanak fel hatalmas mennyiségű strukturálatlan adatot, és tárjanak fel megvalósítható felismeréseket. Az érzelemanalízis feltárja, hogyan éreznek a fogyasztók a termékekkel vagy márkákkal kapcsolatban. Az adatosztályozás automatikusan rendezi a tartalmakat, például az ügyfélszolgálati jegyeket, témákba. A mintázatfelismerés adatokat nyer ki a dokumentumokból, például a számlákból, és azokat tiszta, strukturált nyilvántartásokká alakítja.\n",
        "\n",
        "Ez a gyakorlati eszköztár lehetővé teszi bárki számára, hogy hozzáférjen a naponta létrejövő szöveges adatokban rejlő tudáshoz. Vizsgáljuk meg, hogyan segíthet a generatív AI értelmezni a nyelvet nagyobb léptékben.\n",
        "\n",
        "**A fejezetben tárgyalt témák:**\n",
        "\n",
        "* Érzelem-elemzés – AI technikák az érzelmek felismerésére a szövegben\n",
        "* Strukturálatlan adatok rendszerezése – hogyan automatizálja az AI a szöveges kategorizálást\n",
        "* Rossz minőségű adatok tisztítása – hogyan azonosítja és oldja meg az AI a problémákat az adathalmazokban\n",
        "* Strukturálatlan adatok értelmezése – mintázatfelismerés az információ kinyeréséhez\n"
      ],
      "metadata": {
        "id": "mFWYFKir25cM"
      }
    },
    {
      "cell_type": "markdown",
      "source": [
        "**Érzelem-elemzés – Mesterséges intelligencia technikák az érzelmek felismerésére a szövegben**\n",
        "\n",
        "Az érzelem-elemzés (sentiment analysis) az egyik legfontosabb, mesterséges intelligencia technikákat alkalmazó megoldás a  prompt engineering (a természetes nyelvre épülő, mesterséges intelligenciával vezérelt feladatok automatizálásának) területén. Ez az első az általunk tárgyalt AI-alkalmazások sorában. Az érzelem-elemzés természetes nyelvi feldolgozást (Natural Language Processing, NLP) használ az érzelmi jelek azonosítására és kinyerésére a szöveges adatokból. A cél az, hogy felmérjük egy írásmű általános érzelmét, például meghatározzuk, hogy egy termék értékelése pozitív vagy negatív-e.\n",
        "\n",
        "**Az érzelem-elemzés leggyakoribb felhasználási területei a következők:**\n",
        "\n",
        "* **Márkamonitorozás:** A márkák nyomon követhetik az online zajló beszélgetéseket, hogy figyelemmel kísérjék hírnevüket. Az érzelem-elemzés lehetővé teszi számukra, hogy felismerjék a felmerülő PR-problémákat, és mérjék a marketingkampányok hatását.\n",
        "* **Ügyfélszolgálat:** Az ügyfélélményért felelős csapatok nagyszabásúan összesíthetik a visszajelzéseket felmérések, vélemények és közösségi média említések elemzésével. Ez adatvezérelt betekintést nyújt abba, hogy az emberek hol elégedettek vagy csalódottak a termékekkel és szolgáltatásokkal.\n",
        "* **Piackutatás:** Az ügyfelek hangulatának megértésével a vállalkozások felfedezhetik szolgáltatásaik vagy termékeik hiányosságait, és ennek megfelelően pótolhatják azokat.\n",
        "* **Politikai elemzés:** A politikai csoportok szemmel tarthatják a választók hozzáállását a jelöltekkel és a problémákkal kapcsolatos viták nyomon követésével. A technológia segít az üzenetek tesztelésében és azoknak a területeknek a meghatározásában, ahol további felvilágosításra van szükség.\n",
        "* **Közösségi média megfigyelése:** A vállalatok az érzelem-elemzést használják fel a közösségi média bejegyzéseinek hangulatának azonosítására, hogy megértsék a szélesebb fogyasztói magatartást és trendeket.\n",
        "* **Befektetési elemzés:** A befektetők érzelem-elemzést használhatnak a piaci mozgások előrejelzéséhez. A releváns hírek, fórumok és blogok feldolgozásával az eszközök meg tudják határozni, hogy a befektetők optimisták vagy pesszimisták-e bizonyos részvényekkel vagy szektorokkal kapcsolatban.\n",
        "* **Közegészségügy:** Az egészségügyi hatóságok érzelem-elemzést alkalmazhatnak a közvélemény aggályainak, a félretájékoztatásnak és az érzelmi állapotoknak a megértésére olyan válságok idején, mint például a világjárványok. Ez az információ segít az erőforrások kommunikációs stratégiáinak és elosztásának irányításában.\n"
      ],
      "metadata": {
        "id": "UO_JyC2z26md"
      }
    },
    {
      "cell_type": "markdown",
      "source": [
        "#Példa\n",
        "Prompt: Azonosítsd és kategorizáld a [szövegben] kifejezett érzelmeket (pozitív, semleges, negatív).\n",
        "szöveg = \"Ez a termék csodálatos! Tényleg javított az életemen.\"\n",
        "\n",
        "Kimenet:\n",
        "A szövegben kifejezett érzelmek a következők:\n",
        "\n",
        "Pozitív: \"csodálatos\", \"javított az életemen\"\n",
        "Ez azt jelenti, hogy az író pozitív érzelmeket fejez ki a termékkel kapcsolatban, kifejezve az elégedettségét és a boldogságát annak hatásaival kapcsolatban."
      ],
      "metadata": {
        "id": "HXg511T65Txd"
      }
    },
    {
      "cell_type": "markdown",
      "source": [
        "#Feladat\n",
        "\n",
        "Módosítsuk az elöbbi promptot úgy, hogy csak 1 szavas kimenetet adjon"
      ],
      "metadata": {
        "id": "QOjiZdyj_h5Y"
      }
    },
    {
      "cell_type": "markdown",
      "source": [
        "#Megoldás\n",
        "\n"
      ],
      "metadata": {
        "id": "PruGbKR3_sA2"
      }
    },
    {
      "cell_type": "markdown",
      "source": [
        "#Feladat:\n",
        "Osztályozzuk az albbi mondatokat az elöbbiek szerint a kimenetetként pedig kérjünk táblázatot!\n",
        "\n",
        "Szöveg: \"Nagyon csalódott vagyok a szörnyű ügyfélszolgálat miatt, amit kaptam. Teljesen eszköztelenek és udvariatlanok voltak.\"\n",
        "\"Az ételek ebben az étteremben abszolút finomak. Mindenképpen vissza fogok térni még egyszer.\"\n",
        "\"Nemrég vettem ezt a laptopot, és ez a legjobb technikai vásárlás, amit évek óta csináltam. Annyira gyors és megbízható.\"\n",
        "\"Úgy néz ki, hogy ma délután esni fog. A biztonság kedvéért vinnem kéne egy esernyőt.\"\n",
        "\"A projektjavaslatom beadási határideje jövő pénteken 17 órakor lejár.\"\n",
        "\"Most néztem meg az új Marvel filmet, és teljesen felülmúlta az elvárásaimat. Nagyon szórakoztató volt az elejétől a végéig.\"\n",
        "\"Ha manapság a híreket olvasom, csak szorongok és lehangoltnak érzem magam a világ helyzete miatt.\"\n",
        "\"Ez a legrosszabb ízű étel, amit valaha ettem egy étteremben. A steakem túlsült, a zöldségek pedig pépesek voltak.\"\n",
        "\"Megbántam, hogy a legújabb telefonmodellt vettem meg. Az akkumulátor élettartama szörnyű és tele van hibákkal. Meg kellett volna tartanom a régi telefonomat.\"\n",
        "\"Nem hiszem el, hogy hetekig tartó tanulás után megbuktam a vizsgámon. Az egész felkészülés a semmiért volt.\"\n",
        "\"Még ma be kell ugranom az élelmiszerboltba tejért és tojásért.\"\n",
        "\"Az utasítások szerint a készülék alaphelyzetbe állításához 5 másodpercig nyomva kell tartani a bekapcsológombot.\""
      ],
      "metadata": {
        "id": "ioadDme9AxLV"
      }
    },
    {
      "cell_type": "markdown",
      "source": [
        "#Megoldás\n"
      ],
      "metadata": {
        "id": "QlaEoCs4B3TE"
      }
    },
    {
      "cell_type": "markdown",
      "source": [
        "Prompt:"
      ],
      "metadata": {
        "id": "RilXcKqLDXF_"
      }
    },
    {
      "cell_type": "markdown",
      "source": [
        "| Szöveg                                                                                                           | Hangulat  |\n",
        "|------------------------------------------------------------------------------------------------------------------|-----------|\n",
        "| \"Nagyon csalódott vagyok a szörnyű ügyfélszolgálat miatt, amit kaptam. Teljesen eszköztelenek és udvariatlanok voltak.\" | Negatív   |\n",
        "| \"Az ételek ebben az étteremben abszolút finomak. Mindenképpen vissza fogok térni még egyszer.\"                     | Pozitív   |\n",
        "| \"Nemrég vettem ezt a laptopot, és ez a legjobb technikai vásárlás, amit évek óta csináltam. Annyira gyors és megbízható.\" | Pozitív   |\n",
        "| \"Úgy néz ki, hogy ma délután esni fog. A biztonság kedvéért vinnem kéne egy esernyőt.\"                             | Semleges  |\n",
        "| \"A projektjavaslatom beadási határideje jövő pénteken 17 órakor lejár.\"                                            | Semleges  |\n",
        "| \"Most néztem meg az új Marvel filmet, és teljesen felülmúlta az elvárásaimat. Nagyon szórakoztató volt az elejétől a végéig.\" | Pozitív   |\n",
        "| \"Ha manapság a híreket olvasom, csak szorongok és lehangoltnak érzem magam a világ helyzete miatt.\"               | Negatív   |\n",
        "| \"Ez a legrosszabb ízű étel, amit valaha ettem egy étteremben. A steakem túlsült, a zöldségek pedig pépesek voltak.\" | Negatív   |\n",
        "| \"Megbántam, hogy a legújabb telefonmodellt vettem meg. Az akkumulátor élettartama szörnyű és tele van hibákkal. Meg kellett volna tartanom a régi telefonomat.\" | Negatív   |\n",
        "| \"Nem hiszem el, hogy hetekig tartó tanulás után megbuktam a vizsgámon. Az egész felkészülés a semmiért volt.\"      | Negatív   |\n",
        "| \"Még ma be kell ugranom az élelmiszerboltba tejért és tojásért.\"                                                 | Semleges  |\n",
        "| \"Az utasítások szerint a készülék alaphelyzetbe állításához 5 másodpercig nyomva kell tartani a bekapcsológombot.\" | Semleges  |"
      ],
      "metadata": {
        "id": "2k8aQ8QACuuC"
      }
    },
    {
      "cell_type": "markdown",
      "source": [
        "**Megkérheti az LLM-et, hogy állítsa elő a kimenetet Markdown, HTML, HTML táblázat, XML, JSON vagy akár saját minta formájában.**"
      ],
      "metadata": {
        "id": "zJAAyEKMDxq2"
      }
    },
    {
      "cell_type": "markdown",
      "source": [
        "Az AI képes megérteni és elemezni a strukturálatlan szöveget az adatok pontos osztályozása érdekében.\n",
        "Az AI bizonyos esetekben előzetes példák nélkül is értelmezni tudja a kategorizálási mintákat.\n",
        "Tipikus felhasználási módok közé tartoznak például:\n",
        "* Emailek spamszűrése\n",
        "* Hírcikkek téma szerinti szortírozása\n",
        "* Ügyfelek szegmentálása\n",
        "* Banki hitelkérelmek kockázatának meghatározása\n",
        "\n",
        "Az AI használatának előnyei:\n",
        "\n",
        "* Időmegtakarítás az automatizálás által\n",
        "* Pontosabb és következetesebb eredmények készítése, mint a manuális módszerek.\n",
        "* Komplex adathalmazok jobb kezelése és elemzése."
      ],
      "metadata": {
        "id": "ZyrM_SL3DONH"
      }
    },
    {
      "cell_type": "markdown",
      "source": [
        "#Feladat\n",
        "\n",
        "Osztályozzuk az emaileket spam/nem spam és rendeljünk hozzájuk egy fontossági pontszámot 1-5 iga ahol az 5 a legfontosabb. Készítsünk táblázatot az eredményből.\n",
        "\n",
        "emailek:\n",
        "Tárgy: Itt igényelheti INGYENES ÜDÜLÉSI UTALVÁNYÁT! Feladó: unknownsender@freedeals.com Email tartalma: Kattintson ide , hogy INGYEN élvezhesse a luxus nyaralást! Igyekezzen!Az ajánlatok, mint ez, nem sokáig elérhetőek!\"\n",
        "\n",
        "Tárgy: Q1 2023 Teljesítményértékelés Feladó: HR_dept@yourcompany.com Email tartalma: Kedves János, Jövő héten lesznek az első negyedéves teljesítményértékelések. Kérjük, keddig frissítse a feladatait és eredményeit a dolgozói portálon. Üdvözlettel, HR-csapat\n",
        "\n",
        "Tárgy: Új termékünk bemutatása Feladó: newsletter@electronicsstore.com Email tartalma: Kedves János, Örömmel tájékoztatjuk Önt régóta várt okostévénk érkezéséről. Nézze meg legjobb ajánlatainkat. Kellemes vásárlást! Üdvözlettel, Elektronikai Bolt\n",
        "\n",
        "Tárgy: Reunión del proyecto mañana a las 3 PM Feladó: gerente@tuempresa.com Email tartalma: Equipo, La reunión del proyecto está programada para mañana a las 3 PM en la sala de conferencias del quinto piso. Estén preparados para brindar actualizaciones sobre sus tareas. Atentamente, Gerente del Proyecto (magyarul: Csapat, A projekt megbeszélés holnap 3 órára van tervezve az 5. emeleti tárgyalóteremben. Legyenek felkészülve feladataik frissítésével kapcsolatban. Üdvözlettel, Projektvezető)"
      ],
      "metadata": {
        "id": "tPQmCRRTHOSw"
      }
    },
    {
      "cell_type": "markdown",
      "source": [
        "#Megoldás"
      ],
      "metadata": {
        "id": "2Ndb05c7H0PA"
      }
    },
    {
      "cell_type": "markdown",
      "source": [],
      "metadata": {
        "id": "1dTQAVAuGQGx"
      }
    },
    {
      "cell_type": "markdown",
      "source": [
        "| E-mail tárgysora                           | Feladó                      | Fontosság |\n",
        "|------------------------------------------|--------------------------|-----------|\n",
        "| Itt igényelheti INGYENES ÜDÜLÉSI UTALVÁNYÁT! | unknownsender@freedeals.com | Spam      |\n",
        "| Q1 2023 Teljesítményértékelés            | HR_dept@yourcompany.com   | 3         |\n",
        "| Új termékünk bemutatása                   | newsletter@electronicsstore.com | 4         |\n",
        "| Reunión del proyecto mañana a las 3 PM   | gerente@tuempresa.com     | 2         |"
      ],
      "metadata": {
        "id": "SThy4LqYHKno"
      }
    },
    {
      "cell_type": "markdown",
      "source": [
        "#Adattisztítás - avagy hogyan azonosít és orvosol az AI problémákat az adathalmazokban\n",
        "\n",
        "Az adattisztítás egy olyan folyamat, amely során beazonosítják és korrigálják (vagy eltávolítják) a hibákat, eltéréseket és pontatlanságokat egy adathalmazból. Ez magában foglalhatja a duplikált rekordok észlelését, hiányos vagy hiányzó adatok kezelését, értékek ellenőrzését és javítását, az adatok formázását, szabványosítását vagy normalizálását, valamint a kiugró értékek kezelését.\n",
        "\n",
        "Az adattisztítás fő célja az adatok minőségének és megbízhatóságának javítása, annak biztosítása, hogy azok pontosak, konzisztensek és a felhasználási célra alkalmas formátumúak legyenek. Ez azért döntő fontosságú, mert a hiányos, rendetlen (angolul: *dirty*) adatok zavarhatják az elemzéseket, pontatlan felismerésekhez és következtetésekhez vezethetnek, és negatív hatással lehetnek a döntéshozatali folyamatokra.\n",
        "\n",
        "Fontos megjegyezni, hogy az adattisztításnak az adatkezelés rendszeres részének kell lennie – nem egyszeri feladat, mivel új hibák keletkezhetnek, amikor új adatok kerülnek hozzáadásra vagy a meglévő adatok módosulnak.\n",
        "\n",
        "Általánosságban elmondható, hogy az adattisztítás összetett és költséges folyamat volt, amelyet generatív AI-val hatékonyan lehetséges elvégezni.\n",
        "\n",
        "**Összefoglalás**\n",
        "\n",
        "Példaként tegyük fel, hogy adatokat gyűjtöttél (lekapartál) a LinkedIn-ről. Megvannak potenciális érdeklődők nevei, és különböző forrásokból megvannak az e-maileik, de előfordulhat, hogy helytelenül vannak formázva. Előfordulhat, hogy az egyik név emojit, a másik pedig olyan attribútumokat (pl. Dr., PhD, vagy MBA) tartalmaz, amikre nincs szükség. Ebben az esetben meg kell tisztítani az adatokat, hogy e-mail kampányokat tudjunk küldeni. A cél az, hogy visszakapjuk az adatokat címek, emojik vagy egyéb karakterek nélkül.\n"
      ],
      "metadata": {
        "id": "3OwATCSBLADx"
      }
    },
    {
      "cell_type": "markdown",
      "source": [
        "#Példa\n",
        "\n",
        "Te a szöveges adatok tisztításának szakértője vagy.\n",
        "Tisztísd meg a [nevek és e-mail címek] listáját. A nevekből távolítsd el az emojikat és a címeket, például orvos, PhD stb. Győződj meg arról is, hogy az e-mailek helyesen vannak formázva.\n",
        "A javított listáából szészíts egy táblázatot.\n",
        "nevek és e-mailek:\n",
        "\n",
        "Kimenet:\n",
        "\n",
        "| Név               | E-mail              |\n",
        "|-------------------|---------------------|\n",
        "| John Appleseed    | john.applecom       |\n",
        "| Emma Doe          | emma@doe.com       |\n",
        "| William Smith     | will.smith@uni.com |\n",
        "| Peter Parker      | peteparker@gmail.com |\n",
        "| Steve America     | captain@america.com |\n",
        "| Jane Light        | jane.light@mail.com |\n",
        "| Sophie Turner     | sophie@example.com |\n",
        "| Chris Evans       | chris@uni.edu       |"
      ],
      "metadata": {
        "id": "6sJs9p8ALQq5"
      }
    },
    {
      "cell_type": "markdown",
      "source": [
        "#Feladat\n",
        "\n",
        "Az alábbi struktúrálatlan szövegből az előzőhöz hasonlóan nyerjük ki az információkat egy táblázatba!\n",
        "\n",
        "A gépi tanulás területén folyamatosan zajlanak a kutatások és a fejlődések, amelyek mindennapi életünkre is hatással vannak. Például, a gépi tanulás segít meghatározni, mit nézzen meg a Netflix-en a felhasználó, illetve ajánlani tud olyan termékeket a Amazonnak, amelyek megfelelnek a vevő igényeinek. De nem csupán üzleti haszonnal bír a technológia; orvostudományban is alkalmazzák, például rákbetegségek diagnosztizálására.\n",
        "\n",
        "Dr. János Kovács, a Budapesti Egyetem informatika professzora, egy nagyszerű cikkben bemutatta a gépi tanulás alapjait a \"Gépitanulás Magazinnak\". A cikkben, amelyet 2023. március 15-én jelentettek meg, a neuronhálózatok, a mélytanulás és a renormalizációs grupák alapelveiről olvashattunk. Ha több információt szeretne kapni erről a térről, akkor ne felejtse el írni az e-mail címére: [janos.kovacs@uni-budapest.hu](mailto:janos.kovacs@uni-budapest.hu) .\n",
        "\n",
        "Szemléltessék még Dr. Zsuzsanna Nagy cikkét, amely az \"Önkéntes Gépi Tanulás Etnikai Előítéletekről\" címet viselte. A cikk 2023. február 28-án jelent meg a magazinban. Dr. Nagy elemzi benne, hogyan befolyásolhatják a gépi tanulási modelleket a társadalmi előítéletek, és miért lehet fontos az adathalmozgatás a javításukhoz. További információkat kaphat erre vonatkozóan az e-mail címére: [zsuzsanna.nagy@itm.gov.hu](mailto:zsuzsanna.nagy@itm.gov.hu).\n",
        "\n",
        "Végezetül, ha érdeklődik az autonóm járművek iránt, akkor Tamás Varga cikke is remek forrást jelent számára. A \"Miért Fontos a Gépi Tanulás Az Autonóm Járművek Fejlesztésében?\" című cikke 2023. február 14-én került kiadványba. Tamás feltárta benne, hogy miért van szükség a gépi tanulásra az autonóm járművek fejlesztésénél, és milyen új lehetőségeket nyithat ki ennek alkalmazása az iparágban. Ellenőrizze a cikkötleteit Tamás e-mail címére: [tamas.varga@autonomousvehicles.com](mailto:tamas.varga@autonomousvehicles.com).\n",
        "\n",
        "Biztos, hogy sokoldalú és izgalmas információkat talál ezekben a cikkekben, amelyek nagyban hozzájárulnak a gépi tanulás világának jobb megismeréséhez. Ne felejtse el figyelemmel kísérni a \"Gépitanulás Magazin\" aktuális kiadványait, és maradj informálva a legfrissebb trendekről és fejlesztésekről!"
      ],
      "metadata": {
        "id": "dR8NcPbCyq-E"
      }
    },
    {
      "cell_type": "markdown",
      "source": [
        "#Megoldás\n",
        "\n"
      ],
      "metadata": {
        "id": "NNbOHmrHzHtx"
      }
    },
    {
      "cell_type": "markdown",
      "source": [
        "\n",
        "\n",
        "Kimenet:\n",
        "\n",
        "| Cikk címe                                           | Megjelenési dátum | Szerző            | Szerző e-mail                 |\n",
        "|------------------------------------------------------|-------------------|-------------------|--------------------------------|\n",
        "| Gépi tanulás alapjai a \"Gépitanulás Magazinnak\"     | 2023. március 15. | Dr. János Kovács | janos.kovacs@uni-budapest.hu  |\n",
        "| Önkéntes Gépi Tanulás Etnikai Előítéletekről         | 2023. február 28. | Dr. Zsuzsanna Nagy| zsuzsanna.nagy@itm.gov.hu      |\n",
        "| Miért Fontos a Gépi Tanulás Az Autonóm Járművek Fejlesztésében? | 2023. február 14. | Tamás Varga       | tamas.varga@autonomousvehicles.com |\n",
        "\n",
        "\n"
      ],
      "metadata": {
        "id": "RDYtPpe1y-JC"
      }
    },
    {
      "cell_type": "markdown",
      "source": [
        "**Amint látható, ha több száz vagy akár több ezer olyan rekorddal rendelkezik, amelyeket meg kell tisztítania, ezzel sok időt takaríthat meg. Előfordulhatnak azonban olyan esetek, amikor az LLM-ek nem tudják teljesen megoldani ezt a problémát tökéletesen, ha néhány kulcsfontosságú információ hiányzik. Ezért mindig ellenőrizze az eredményeket.**\n",
        "\n",
        "**Íme néhány más felhasználási terület az adattisztításhoz AI-val:**\n",
        "\n",
        "* **Duplikátumok eltávolítása:** A duplikált bejegyzések azonosítása és eltávolítása az adatkészletben.\n",
        "* **Hiányzó értékek kezelése:** A hiányzó értékek kezelésének módjának meghatározása, akár imputálással, akár törléssel.\n",
        "* **Adatformátumok szabványosítása:** Az adatmezők következetes formázásának biztosítása, mint például a dátumok, telefonszámok vagy címek.\n",
        "* **Speciális karakterek eltávolítása:** A felesleges speciális karakterek vagy szimbólumok eltávolítása, amelyek befolyásolhatják az adatok minőségét.\n",
        "* **Adattípusok konvertálása:** Az adatmezők megfelelő adattípusokra történő konvertálása (pl. karakterláncok számokká alakítása).\n",
        "* **Outlierek (kiugró értékek) kezelése:** A kiugró értékek azonosítása és kezelése, amelyek torzíthatják az elemzést vagy a modellezési eredményeket\n",
        "* **Nem következetes írásmódok feloldása:** Ugyanazon entitás inkonzisztens írásmódjainak vagy variációinak szabványosítása és korrigálása.\n",
        "* **E-mail címek ellenőrzése:** E-mail címek érvényességének ellenőrzése és a formátumhibák javítása.\n",
        "* **Szöveges adatok normalizálása:** A felesleges szóközök eltávolítása, kisbetűs átalakítás és az írásjelek kezelése szövegmezőkben.\n",
        "\n",
        "**Annak biztosítása után, hogy az adatok tiszták és megbízhatóak, a hangsúly áttevődik a mintaillesztési technikák kihasználására a koherens és kontextusérzékeny válaszok előállításához.**\n"
      ],
      "metadata": {
        "id": "-j-KDo_517O8"
      }
    },
    {
      "cell_type": "markdown",
      "source": [
        "#Mintaillesztés, rendszerezés, információ kinyerés\n",
        "\n",
        "Mi a mintaillesztés? A folyamat, mely során strukturálatlan szöveget elemzünk, hogy releváns mintákat és információkat azonosítsunk és kinyerjünk.\n",
        "Példa: Személyes adatok kinyerése strukturálatlan szövegből, mint név, kor, foglalkozás.\n",
        "Hasznosítás: A kinyert, strukturált adatokat jobban lehet rendszerezni, elemezni és más rendszerekkel integrálni.\n"
      ],
      "metadata": {
        "id": "ZE4kJJPr2cbn"
      }
    },
    {
      "cell_type": "markdown",
      "source": [
        "#Folyamat leírása\n",
        "\n",
        "* **kép szkennelése, beolvasása valamilyen forrásból**\n",
        "* **OCR segítségével képből szöveg készítése, eredmény tipikusan struktúrálatlan szöveg**\n",
        "* **LLM segítségével a fontos információk kinyerése**\n",
        "* **LLM segítségével valamilyen átadható adatformátum készítése pl. JSON, ...**\n",
        "* **adatok átadása valamilyen más szolgáltatásnak**"
      ],
      "metadata": {
        "id": "hrN9IwXMrq-L"
      }
    },
    {
      "cell_type": "markdown",
      "source": [
        "#Példa\n",
        "\n",
        "Az A vállalatnak van egy sofőr csapata, akik szállításokat végeznek különböző ügyfeleknek több városban. A sofőröknek jelenteniük kell az általuk felmerülő költségeket, például az üzemanyagot, az útdíjakat, a járműkarbantartást, az étkezést és a szállást. Jelenleg minden nap végén küldeniük kell egy e-mailt, amelyben részletezik az egyes kiadásokat, és csatolniuk kell a számlák vagy nyugták képeit. Ez időigényes és hibákkal terhelt.\n",
        "\n",
        "Emellett az irodában valakinek el kell olvasnia minden egyes e-mailt, át kell másolnia az adatokat egy táblázatba vagy más rendszerbe, és a képeket egy meghajtó mappába vagy valami hasonlóba kell helyeznie. Ez a folyamat hibalehetőségekkel teli, időigényes, és bonyolítja az adatok összekapcsolását.\n",
        "\n",
        "Ha például az e-mailekből származó képeket egy Drive mappába mentik, míg más mezőket egy táblázatba másolnak, nehéz lehet összekapcsolni, hogy melyik kép melyik rekordhoz vagy sorhoz tartozik a táblázatban. Nincs automatikus kapcsolat az elkülönített adatok között.\n",
        "\n"
      ],
      "metadata": {
        "id": "niYyTaDIob53"
      }
    },
    {
      "cell_type": "markdown",
      "source": [
        "##Alkalmazás az OCR-technológiával:\n",
        "A felhasználó képet (pl. számlát) tölt fel OCR-feldolgozásra\n",
        "Mesterséges intelligencia rendezi a kinyerhető szöveget\n",
        "Az adatokból például automatikusan táblázatba kerülnek a költségek"
      ],
      "metadata": {
        "id": "2HFChPXi4Yg_"
      }
    },
    {
      "cell_type": "code",
      "source": [
        "!gdown 1GesvS7nhgHK3eke-t2RsQYGXGSVy_2g1 #adatok beszerzése\n",
        "!gdown 1OcuK4c6UdoqGGSRPEn3Zxip8EfvhBXQU\n",
        "!gdown 1RdBidgJM4RxdgKtRjGtgZ1TqwV7g5i1y"
      ],
      "metadata": {
        "colab": {
          "base_uri": "https://localhost:8080/"
        },
        "id": "8v9RyhPVnMUU",
        "outputId": "77ba455d-5547-401f-f938-64a00bc9494a"
      },
      "execution_count": null,
      "outputs": [
        {
          "output_type": "stream",
          "name": "stdout",
          "text": [
            "Downloading...\n",
            "From: https://drive.google.com/uc?id=1GesvS7nhgHK3eke-t2RsQYGXGSVy_2g1\n",
            "To: /content/Aldi.jpg\n",
            "100% 253k/253k [00:00<00:00, 16.1MB/s]\n",
            "Downloading...\n",
            "From: https://drive.google.com/uc?id=1OcuK4c6UdoqGGSRPEn3Zxip8EfvhBXQU\n",
            "To: /content/szamla1.jpg\n",
            "100% 126k/126k [00:00<00:00, 14.6MB/s]\n",
            "Downloading...\n",
            "From: https://drive.google.com/uc?id=1RdBidgJM4RxdgKtRjGtgZ1TqwV7g5i1y\n",
            "To: /content/szamla.jpg\n",
            "100% 161k/161k [00:00<00:00, 14.3MB/s]\n"
          ]
        }
      ]
    },
    {
      "cell_type": "code",
      "source": [
        "!apt-get install tesseract-ocr\n",
        "!pip install pytesseract pillow\n",
        "!sudo apt-get install tesseract-ocr-hun -y"
      ],
      "metadata": {
        "id": "oVUPtWAPm3fv"
      },
      "execution_count": null,
      "outputs": []
    },
    {
      "cell_type": "code",
      "source": [
        "import requests\n",
        "\n",
        "url = \"https://www.infocentrum.hu/wp-content/uploads/help_images/elolegszamla_kep.png\"\n",
        "\n",
        "response = requests.get(url)\n",
        "image_bytes = response.content\n",
        "\n",
        "kep = Image.open(BytesIO(image_bytes))"
      ],
      "metadata": {
        "id": "dIi1yTg7tJDi"
      },
      "execution_count": null,
      "outputs": []
    },
    {
      "cell_type": "markdown",
      "source": [
        "Prompt: készíts egy python szkriptet colabhoz ami beolvas egy képet majd az tesseract segtítségével felismeri a szövegeket, táblázatokat és kiírja azokat."
      ],
      "metadata": {
        "id": "9r7pa52QoEmq"
      }
    },
    {
      "cell_type": "code",
      "source": [
        "from PIL import Image\n",
        "import pytesseract\n",
        "import io\n",
        "\n",
        "# Beolvasandó kép elérési útja\n",
        "kep_eleresi_ut = \"valami.jpg\"\n",
        "\n",
        "# Kép betöltése\n",
        "kep = Image.open(kep_eleresi_ut)\n",
        "\n",
        "# Szöveg kinyerése\n",
        "szoveg = pytesseract.image_to_string(kep,lang=\"hun\")\n",
        "\n",
        "# Táblázat kinyerése\n",
        "tabulat = pytesseract.image_to_data(kep, lang=\"hun\", output_type=pytesseract.Output.DICT)\n",
        "\n",
        "# Kiíratás\n",
        "print(\"Szöveg:\")\n",
        "print(szoveg)\n",
        "\n",
        "#print(\"Táblázat:\")\n",
        "#for sor in tabulat['text']:\n",
        "#    print(sor)\n"
      ],
      "metadata": {
        "id": "rzZJ6OFbPL_C"
      },
      "execution_count": null,
      "outputs": []
    },
    {
      "cell_type": "markdown",
      "source": [
        "\n",
        "\n",
        "\n",
        "\n",
        "Kimenet:\n",
        "{\n",
        "  \"szolgaltato\": {\n",
        "    \"nev\": \"Adi Magyarország Élelmiszer Bt.\",\n",
        "    \"cim\": \"2051 Biatorbágy, Mészárosok útja 2., 102. sz, üzlet, 7634 ker\",\n",
        "    \"adoszam\": \"22934663-3-44\"\n",
        "  },\n",
        "  \"fizetendo_osszeg\": 21263\n",
        "}\n"
      ],
      "metadata": {
        "id": "rXZHgxZKuFcX"
      }
    },
    {
      "cell_type": "code",
      "source": [
        "{\n",
        "  \"szolgaltato\": {\n",
        "    \"nev\": \"Adi Magyarország Élelmiszer Bt.\",\n",
        "    \"cim\": \"2051 Biatorbágy, Mészárosok útja 2., 102. sz, üzlet, 7634 ker\",\n",
        "    \"adoszam\": \"22934663-3-44\"\n",
        "  },\n",
        "  \"fizetendo_osszeg\": 21263\n",
        "}\n"
      ],
      "metadata": {
        "id": "bXZfa2HMyq0w"
      },
      "execution_count": null,
      "outputs": []
    },
    {
      "cell_type": "markdown",
      "source": [
        "#Feladat:"
      ],
      "metadata": {
        "id": "cWCk-rPIFIBU"
      }
    },
    {
      "cell_type": "markdown",
      "source": [
        "![img](https://www.infocentrum.hu/wp-content/uploads/help_images/elolegszamla_kep.png)\n",
        "\n"
      ],
      "metadata": {
        "id": "5OgkwJiDs1ZB"
      }
    },
    {
      "cell_type": "code",
      "source": [
        "import requests\n",
        "from io import BytesIO\n",
        "\n",
        "url = \"https://www.infocentrum.hu/wp-content/uploads/help_images/elolegszamla_kep.png\"\n",
        "\n",
        "response = requests.get(url)\n",
        "image_bytes = response.content\n",
        "\n",
        "kep = Image.open(BytesIO(image_bytes))"
      ],
      "metadata": {
        "id": "ca6zdKJ7PZ4i"
      },
      "execution_count": null,
      "outputs": []
    },
    {
      "cell_type": "code",
      "source": [
        "szoveg =\n",
        "\n",
        "# Táblázat kinyerése\n",
        "tabulat =\n",
        "\n",
        "print(\"Táblázat:\")\n",
        "for sor in tabulat['text']:\n",
        "    print(sor)"
      ],
      "metadata": {
        "id": "EzuaqYd7vPd1"
      },
      "execution_count": null,
      "outputs": []
    },
    {
      "cell_type": "markdown",
      "source": [
        "#Megoldás:"
      ],
      "metadata": {
        "id": "kk6vk5Ha39n_"
      }
    },
    {
      "cell_type": "markdown",
      "source": [
        "Prompt:\n"
      ],
      "metadata": {
        "id": "1cFsKsDAv88D"
      }
    },
    {
      "cell_type": "markdown",
      "source": [
        "Kimenet:\n",
        "\n",
        "{\n",
        "  \"számla_sorszám\": \"000007/2015\",\n",
        "  \"szolgáltató\": {\n",
        "    \"név\": \"Infocentrum Szoftver Stúdió\",\n",
        "    \"cím\": \"7400 Kaposvár, Vár u. 12-14.\",\n",
        "    \"adószám\": \"12345678-1-12\",\n",
        "    \"közösségi_adószám\": \"HU12345678\",\n",
        "    \"bankszámlaszám\": \"\",\n",
        "    \"telefonszám\": \"06-30-916-8888\",\n",
        "    \"fax\": \"821312-391\",\n",
        "    \"weboldal\": \"www.infocentrum.hu\"\n",
        "  },\n",
        "  \"vevő\": {\n",
        "    \"név\": \"TesztKereskedelmi Kft.\",\n",
        "    \"cím\": \"1023 Budapest II. kerület, Madár u. 55.\",\n",
        "    \"adószám\": \"12121212-1-21\",\n",
        "    \"közösségi_adószám\": \"HU12121212\",\n",
        "    \"bankszámlaszám\": \"\"\n",
        "  },\n",
        "  \"megvásárolt_termék\": \"4 licencses hálózatos számlázó program előlege\",\n",
        "  \"mennyiség\": 1,\n",
        "  \"ár\": 50000,\n",
        "  \"áfa\": 27,\n",
        "  \"számlaérték\": 50000,\n",
        "  \"fizetendő\": 63500,\n",
        "  \"fizetés_módja\": \"átutalás\",\n",
        "  \"teljesítés_időpontja\": \"2015.06.12.\",\n",
        "  \"számla_kelte\": \"2015.06.12.\",\n",
        "  \"fizetési_határidő\": \"2015.06.12.\"\n",
        "}\n"
      ],
      "metadata": {
        "id": "JMf1gpFjyZ1A"
      }
    },
    {
      "cell_type": "code",
      "source": [
        "{\n",
        "  \"számla_sorszám\": \"000007/2015\",\n",
        "  \"szolgáltató\": {\n",
        "    \"név\": \"Infocentrum Szoftver Stúdió\",\n",
        "    \"cím\": \"7400 Kaposvár, Vár u. 12-14.\",\n",
        "    \"adószám\": \"12345678-1-12\",\n",
        "    \"közösségi_adószám\": \"HU12345678\",\n",
        "    \"bankszámlaszám\": \"\",\n",
        "    \"telefonszám\": \"06-30-916-8888\",\n",
        "    \"fax\": \"821312-391\",\n",
        "    \"weboldal\": \"www.infocentrum.hu\"\n",
        "  },\n",
        "  \"vevő\": {\n",
        "    \"név\": \"TesztKereskedelmi Kft.\",\n",
        "    \"cím\": \"1023 Budapest II. kerület, Madár u. 55.\",\n",
        "    \"adószám\": \"12121212-1-21\",\n",
        "    \"közösségi_adószám\": \"HU12121212\",\n",
        "    \"bankszámlaszám\": \"\"\n",
        "  },\n",
        "  \"megvásárolt_termék\": \"4 licencses hálózatos számlázó program előlege\",\n",
        "  \"mennyiség\": 1,\n",
        "  \"ár\": 50000,\n",
        "  \"áfa\": 27,\n",
        "  \"számlaérték\": 50000,\n",
        "  \"fizetendő\": 63500,\n",
        "  \"fizetés_módja\": \"átutalás\",\n",
        "  \"teljesítés_időpontja\": \"2015.06.12.\",\n",
        "  \"számla_kelte\": \"2015.06.12.\",\n",
        "  \"fizetési_határidő\": \"2015.06.12.\"\n",
        "}\n"
      ],
      "metadata": {
        "id": "a2QOjBPsvzWw"
      },
      "execution_count": null,
      "outputs": []
    }
  ]
}